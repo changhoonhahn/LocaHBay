{
 "cells": [
  {
   "cell_type": "code",
   "execution_count": 14,
   "metadata": {},
   "outputs": [],
   "source": [
    "import autograd.numpy as np\n",
    "from autograd import grad\n",
    "import autograd\n",
    "\n",
    "import scipy.optimize"
   ]
  },
  {
   "cell_type": "code",
   "execution_count": 2,
   "metadata": {},
   "outputs": [],
   "source": [
    "import matplotlib.pyplot as plt "
   ]
  },
  {
   "cell_type": "code",
   "execution_count": 33,
   "metadata": {},
   "outputs": [],
   "source": [
    "evaluation_points = np.linspace(0, 1, 50)\n",
    "sigma = 0.1"
   ]
  },
  {
   "cell_type": "code",
   "execution_count": 34,
   "metadata": {},
   "outputs": [],
   "source": [
    "def psi(theta): \n",
    "    return np.exp(-((evaluation_points - theta)/sigma)**2)"
   ]
  },
  {
   "cell_type": "code",
   "execution_count": 35,
   "metadata": {},
   "outputs": [
    {
     "data": {
      "text/plain": [
       "[<matplotlib.lines.Line2D at 0x151e550610>]"
      ]
     },
     "execution_count": 35,
     "metadata": {},
     "output_type": "execute_result"
    },
    {
     "data": {
      "image/png": "[encoded data removed]",
      "text/plain": [
       "<Figure size 432x288 with 1 Axes>"
      ]
     },
     "metadata": {
      "needs_background": "light"
     },
     "output_type": "display_data"
    }
   ],
   "source": [
    "plt.plot(evaluation_points, psi(0.3))"
   ]
  },
  {
   "cell_type": "code",
   "execution_count": 36,
   "metadata": {},
   "outputs": [],
   "source": [
    "def Psi(ws, thetas): \n",
    "    return np.sum(np.array([w*psi(theta) for (w, theta) in zip(ws, thetas)]),0)"
   ]
  },
  {
   "cell_type": "code",
   "execution_count": 37,
   "metadata": {},
   "outputs": [],
   "source": [
    "def ell(ws, thetas): \n",
    "    return ((Psi(ws, thetas) - y)**2).sum()"
   ]
  },
  {
   "cell_type": "code",
   "execution_count": 41,
   "metadata": {},
   "outputs": [],
   "source": [
    "num_true_thetas = 4 \n",
    "noise_level = 0.1 \n",
    "true_thetas = np.random.rand(num_true_thetas)\n",
    "true_weights = np.random.rand(num_true_thetas) + 1"
   ]
  },
  {
   "cell_type": "code",
   "execution_count": 42,
   "metadata": {},
   "outputs": [],
   "source": [
    "y = Psi(true_weights, true_thetas) + np.random.randn(len(evaluation_points)) * noise_level"
   ]
  },
  {
   "cell_type": "code",
   "execution_count": 43,
   "metadata": {},
   "outputs": [
    {
     "data": {
      "text/plain": [
       "[<matplotlib.lines.Line2D at 0x151e7320d0>]"
      ]
     },
     "execution_count": 43,
     "metadata": {},
     "output_type": "execute_result"
    },
    {
     "data": {
      "image/png": "[encoded data removed]",
      "text/plain": [
       "<Figure size 432x288 with 1 Axes>"
      ]
     },
     "metadata": {
      "needs_background": "light"
     },
     "output_type": "display_data"
    }
   ],
   "source": [
    "plt.plot(evaluation_points, y)"
   ]
  },
  {
   "cell_type": "code",
   "execution_count": 44,
   "metadata": {},
   "outputs": [],
   "source": [
    "grid_points = np.linspace(0, 1, 30)\n",
    "grid_psi = np.stack([psi(tt) for tt in grid_points])"
   ]
  },
  {
   "cell_type": "code",
   "execution_count": 45,
   "metadata": {},
   "outputs": [],
   "source": [
    "def lmo(v): \n",
    "    scores = np.matmul(grid_psi, v)\n",
    "    return grid_points[scores.argmin()]"
   ]
  },
  {
   "cell_type": "code",
   "execution_count": 62,
   "metadata": {},
   "outputs": [],
   "source": [
    "def coordinate_descent(thetas, iters=35, min_drop=1e-5): \n",
    "    def min_ws(): \n",
    "        return scipy.optimize.nnls(np.stack([psi(tt) for tt in thetas]).T, y)[0]\n",
    "    def min_thetas(): \n",
    "        res =  scipy.optimize.minimize(autograd.value_and_grad(lambda tts: ell(ws, tts)), thetas, jac=True, method='L-BFGS-B', bounds=[(0.0, 1.0)]*len(thetas))\n",
    "        return res['x'], res['fun']\n",
    "    old_f_val = np.Inf\n",
    "    for iter in range(iters): \n",
    "        ws = min_ws()\n",
    "        thetas, f_val = min_thetas()\n",
    "        print ws, thetas\n",
    "        if old_f_val - f_val < min_drop: \n",
    "            break \n",
    "        old_f_val = f_val \n",
    "    return ws, thetas"
   ]
  },
  {
   "cell_type": "code",
   "execution_count": 47,
   "metadata": {},
   "outputs": [],
   "source": [
    "def local_search(thetas): \n",
    "    n = len(thetas)\n",
    "    def f(x): \n",
    "        return ell(x[:n], x[n:])\n",
    "    x_init = np.concatenate((np.zeros(n), thetas))\n",
    "    res = scipy.optimize.minimize(autograd.value_and_grad(f), x_init, jac=True, method='L-BFGS-B',bounds=([(0.0, None)]*n)+([(0.0,1.0)]*n))\n",
    "    x = res['x']\n",
    "    ws = x[:n]\n",
    "    thetas = x[n:]\n",
    "    return ws, thetas"
   ]
  },
  {
   "cell_type": "code",
   "execution_count": 57,
   "metadata": {},
   "outputs": [],
   "source": [
    "def ADCG(local_update, max_iters): \n",
    "    thetas = np.zeros(0)\n",
    "    output = np.zeros(len(evaluation_points))\n",
    "    history = [] \n",
    "    for iter in range(max_iters): \n",
    "        residual = output - y \n",
    "        loss = (residual**2).sum() # L2 norm\n",
    "        history.append((loss, thetas))\n",
    "        theta = lmo(residual)\n",
    "        ws, thetas = local_update(np.append(thetas, theta))\n",
    "        output = Psi(ws, thetas)\n",
    "    return history, output"
   ]
  },
  {
   "cell_type": "code",
   "execution_count": 49,
   "metadata": {},
   "outputs": [],
   "source": [
    "def select_k(history): \n",
    "    drop = np.array([history[i][0]-history[i+1][0] for i in range(len(history)-1)])\n",
    "    k_hat = np.argmax(drop<0.1)\n",
    "    return history[k_hat][1]"
   ]
  },
  {
   "cell_type": "code",
   "execution_count": 64,
   "metadata": {},
   "outputs": [
    {
     "name": "stdout",
     "output_type": "stream",
     "text": [
      "[3.66894397] [0.36941308]\n",
      "[3.67858945] [0.36941308]\n",
      "[3.67858945] [0.36941308]\n",
      "[3.53768779 2.05341403] [0.38598516 0.1559078 ]\n",
      "[3.49804576 2.16103632] [0.38685413 0.15687371]\n",
      "[3.49434368 2.16626302] [0.38690165 0.15694249]\n",
      "[3.4940799  2.16655135] [0.38690439 0.15694702]\n",
      "[3.40393915 2.172832   0.34880271] [0.37906204 0.15263607 0.51578714]\n",
      "[3.28993414 2.13570192 0.54737463] [0.37368987 0.15027228 0.5011236 ]\n",
      "[3.19551408 2.11086026 0.69212278] [0.36963761 0.14860786 0.49160713]\n",
      "[3.11217412 2.09279048 0.80896622] [0.36632777 0.14733769 0.48458405]\n",
      "[3.03725325 2.07848187 0.90842937] [0.36349004 0.14630639 0.47905416]\n",
      "[2.96912494 2.06651093 0.99580786] [0.3609808  0.14543352 0.47451891]\n",
      "[2.90662461 2.05612889 1.07413017] [0.35871562 0.14467356 0.47069181]\n",
      "[2.84888476 2.04690187 1.14530277] [0.3566408  0.14399867 0.46739349]\n",
      "[2.79524646 2.03855801 1.21061302] [0.35472011 0.14339057 0.46450464]\n",
      "[2.7451985  2.03091619 1.27097851] [0.35292792 0.14283664 0.46194209]\n",
      "[2.6983363  2.02384964 1.32708136] [0.35124542 0.14232776 0.45964579]\n",
      "[2.65433337 2.01726623 1.37944586] [0.34965841 0.14185713 0.45757097]\n",
      "[2.61292163 2.01109693 1.42848604] [0.3481559  0.14141955 0.45568345]\n",
      "[2.57387736 2.00528872 1.47453638] [0.34672923 0.14101091 0.45395655]\n",
      "[2.53701102 1.99980002 1.51787252] [0.34537143 0.14062796 0.45236907]\n",
      "[2.50215993 1.99459765 1.55872536] [0.34407682 0.14026803 0.45090384]\n",
      "[2.46918273 1.9896547  1.59729128] [0.34284069 0.13992893 0.44954683]\n",
      "[2.43795523 1.98494907 1.6337395 ] [0.34165911 0.13960882 0.44828636]\n",
      "[2.40836721 1.9804624  1.66821756] [0.34052873 0.13930615 0.44711264]\n",
      "[2.38031996 1.97617921 1.70085552] [0.33944667 0.13901959 0.44601735]\n",
      "[2.35372436 1.97208635 1.73176907] [0.33841044 0.138748   0.44499337]\n",
      "[2.32849931 1.9681725  1.7610621 ] [0.33741785 0.13849036 0.44403454]\n",
      "[2.3045705  1.96442783 1.7888286 ] [0.33646693 0.1382458  0.4431355 ]\n",
      "[2.28186943 1.9608437  1.81515425] [0.33555594 0.13801352 0.44229155]\n",
      "[2.2603326  1.95741247 1.84011764] [0.33468326 0.13779282 0.44149851]\n",
      "[2.23990085 1.95412726 1.8637913 ] [0.33384672 0.13758295 0.44075367]\n",
      "[2.22052988 1.95097632 1.88624574] [0.33304683 0.1373834  0.44005104]\n",
      "[2.20213937 1.94796845 1.9075348 ] [0.33228085 0.13719401 0.43938986]\n",
      "[2.18470138 1.9450874  1.92772428] [0.33154776 0.13701386 0.43876699]\n",
      "[2.16816732 1.94232953 1.94686839] [0.33084646 0.13684255 0.43817991]\n",
      "[2.15249247 1.93969077 1.96501866] [0.33017589 0.13667968 0.43762635]\n",
      "[2.13763479 1.93716695 1.98222403] [0.32953497 0.13652487 0.43710424]\n",
      "[2.12355453 1.93475402 1.99853093] [0.32892269 0.13637773 0.43661168]\n",
      "[2.11021391 1.93244806 2.01398339] [0.32833805 0.13623793 0.43614691]\n",
      "[2.09757694 1.93024525 2.02862331] [0.32778006 0.13610512 0.4357083 ]\n",
      "[2.09098357 1.90193604 2.03977824 0.06788121] [0.3277955  0.13792237 0.4356252  0.00063198]\n",
      "[2.07718287 1.89175158 2.04622653 0.10128148] [0.32789758 0.13904221 0.43531121 0.00236172]\n",
      "[2.06452943 1.8863246  2.05136851 0.11998129] [0.327942   0.13976064 0.43499952 0.00415273]\n",
      "[2.05416507 1.8825448  2.0562119  0.13139998] [0.32792312 0.14023683 0.43473137 0.00595567]\n",
      "[2.04575664 1.87942076 2.06090496 0.13871723] [0.32785896 0.14056117 0.43450478 0.00777319]\n",
      "[2.03881458 1.87660243 2.06543375 0.14356703] [0.32776609 0.14078844 0.43431078 0.00959992]\n",
      "[2.03293732 1.87394471 2.06977973 0.14689464] [0.32765668 0.1409522  0.43414149 0.01140824]\n",
      "[2.02784424 1.87139791 2.07392647 0.14926982] [0.32753857 0.14107387 0.43399109 0.01316933]\n",
      "[2.0233386  1.86894358 2.07787311 0.15105135] [0.32741671 0.14116698 0.43385519 0.01486107]\n",
      "[2.01928012 1.86657868 2.08162854 0.15245831] [0.32729443 0.1412405  0.43373087 0.016469  ]\n",
      "[2.01557486 1.86430391 2.08519871 0.15363006] [0.32717372 0.14130024 0.43361591 0.01798343]\n",
      "[2.01215408 1.86212253 2.08859437 0.1546515 ] [0.32705589 0.14135004 0.43350887 0.01940217]\n",
      "[2.00897255 1.86003558 2.09182251 0.15557398] [0.32694169 0.14139257 0.43340862 0.0207269 ]\n",
      "[2.005995   1.85804188 2.0948925  0.15642995] [0.32683155 0.14142968 0.43331431 0.02196212]\n",
      "[2.0031954  1.85613856 2.09781284 0.15723965] [0.32672573 0.14146256 0.43322538 0.02311312]\n",
      "[2.00055685 1.85432329 2.10058926 0.15801348] [0.32662429 0.14149219 0.43314129 0.02418527]\n",
      "[1.9980624  1.85259249 2.10323032 0.15875987] [0.32652727 0.14151919 0.43306172 0.0251866 ]\n",
      "[1.99570252 1.85094037 2.10574089 0.1594829 ] [0.32643459 0.14154413 0.43298633 0.02612401]\n",
      "[1.99346664 1.84936118 2.10812768 0.1601867 ] [0.32634616 0.14156737 0.43291484 0.02700254]\n",
      "[1.9913465  1.84785128 2.11039653 0.16087307] [0.32626203 0.14158912 0.43284715 0.02782898]\n",
      "[1.98933951 1.84640621 2.11254841 0.16154173] [0.32618191 0.14160977 0.43278293 0.0286073 ]\n",
      "[1.98743476 1.84502078 2.11459288 0.16219691] [0.32610554 0.14162953 0.43272195 0.02934139]\n",
      "[1.98562421 1.84369052 2.11653788 0.16284041] [0.32603283 0.14164844 0.4326641  0.0300355 ]\n",
      "[1.98390542 1.84241252 2.11838591 0.16347091] [0.32596378 0.1416667  0.43260919 0.0306964 ]\n",
      "[1.98227436 1.8411802  2.12013938 0.16409044] [0.32589811 0.14168448 0.43255715 0.03132396]\n",
      "[1.98072568 1.83999225 2.12180454 0.16470114] [0.32583582 0.14170165 0.4325077  0.03192079]\n",
      "[1.97925538 1.83884941 2.12338401 0.1652985 ] [0.32577671 0.14171847 0.43246084 0.03249149]\n",
      "[1.97786038 1.83774384 2.12488197 0.16588774] [0.32572062 0.14173497 0.43241642 0.03303655]\n",
      "[1.97653621 1.83667535 2.1263029  0.16646838] [0.32566743 0.14175121 0.43237429 0.03355811]\n",
      "[1.97527928 1.83564163 2.1276503  0.16704088] [0.32561703 0.14176723 0.43233437 0.03405802]\n",
      "[1.97408642 1.83464041 2.12892739 0.16760596] [0.3255693  0.14178309 0.43229653 0.03453892]\n",
      "[1.97295463 1.83366845 2.13013739 0.16816442] [0.32552409 0.1417988  0.43226067 0.03500087]\n",
      "[1.97188032 1.83272572 2.13128405 0.16871597] [0.32548137 0.14181444 0.43222667 0.03544618]\n",
      "[1.97086084 1.83180929 2.13236952 0.16926203] [0.32544096 0.14183001 0.43219448 0.03587577]\n",
      "[1.96989373 1.83091763 2.13339709 0.16980286] [0.32540279 0.14184555 0.432164   0.03629072]\n",
      "[1.97715014 1.82811114 2.11830718 0.17150935 0.03756142] [0.32551369 0.14176738 0.43143379 0.03731222 0.57140047]\n",
      "[1.96835652 1.83033172 2.11556835 0.16875159 0.04750869] [0.32549419 0.14176916 0.43090071 0.03691227 0.56596795]\n",
      "[1.95980493 1.83221525 2.11688262 0.16781592 0.05359619] [0.32538274 0.14177737 0.43047429 0.03604663 0.56258898]\n",
      "[1.95183007 1.83361807 2.11993571 0.1674349  0.05804788] [0.32522388 0.14177233 0.43010779 0.03517752 0.5602429 ]\n",
      "[1.94436892 1.83461842 2.12384076 0.16711802 0.06160164] [0.32503702 0.14175026 0.42977949 0.03441871 0.55847632]\n",
      "[1.93734024 1.83531911 2.12820029 0.16670434 0.06460214] [0.32483232 0.14171238 0.42947784 0.03377548 0.55706971]\n",
      "[1.93066898 1.83581248 2.1328165  0.1661504  0.06723078] [0.32461589 0.14166131 0.42919605 0.03322283 0.55590353]\n",
      "[1.92429409 1.83616996 2.13757942 0.16545857 0.06959282] [0.32439172 0.14159944 0.42892967 0.03273265 0.5549096 ]\n",
      "[1.91816749 1.83644616 2.14242277 0.16464064 0.07175599] [0.32416238 0.14152873 0.42867558 0.03227995 0.55404195]\n",
      "[1.91225064 1.83668106 2.14730479 0.16371023 0.07376734] [0.32393004 0.14145101 0.42843177 0.03184287 0.5532711 ]\n",
      "[1.90651847 1.83690474 2.15219182 0.16268453 0.07565849] [0.32369639 0.1413668  0.42819796 0.03132347 0.55270566]\n",
      "[1.90092342 1.83724484 2.15715712 0.1615425  0.07739681] [0.32345917 0.14127604 0.42796975 0.03087658 0.55197344]\n",
      "[1.89551439 1.83749594 2.1619671  0.16032929 0.07913965] [0.32322433 0.14118134 0.4277488  0.03035447 0.55146058]\n",
      "[1.89020829 1.83786552 2.16682735 0.15903056 0.08076462] [0.32298845 0.14108178 0.42753319 0.02978865 0.55092465]\n",
      "[1.88502765 1.83828739 2.17161978 0.15765754 0.08235396] [0.32275324 0.14097846 0.42732244 0.02919434 0.55040376]\n",
      "[1.8799645  1.83874917 2.17634671 0.1562252  0.0839081 ] [0.32251897 0.14087173 0.42711616 0.02855777 0.54990046]\n",
      "[1.87500917 1.83926323 2.1810107  0.15473854 0.08542984] [0.32228594 0.14076195 0.42691394 0.02787417 0.54941521]\n",
      "[1.87015406 1.83983165 2.18561145 0.15320413 0.08692368] [0.3220541  0.14064919 0.42671546 0.02713424 0.54894413]\n",
      "[1.86539273 1.84045991 2.19015027 0.15162515 0.08839321] [0.32182342 0.14053341 0.42652045 0.02632827 0.54848804]\n",
      "[1.86071922 1.84115426 2.19463087 0.1500035  0.08984019] [0.3215938  0.14041444 0.42632867 0.02544575 0.54804651]\n"
     ]
    },
    {
     "name": "stdout",
     "output_type": "stream",
     "text": [
      "[1.85612845 1.84192081 2.19905736 0.14833984 0.09126624] [0.32136505 0.14029202 0.42613996 0.02447467 0.54762035]\n",
      "[1.85161633 1.84276574 2.20343523 0.14663526 0.09267139] [0.32113681 0.14016567 0.42595392 0.02340756 0.54719937]\n",
      "[1.84717982 1.84368985 2.20776249 0.14488871 0.0940627 ] [0.32090884 0.14003496 0.42577032 0.02222982 0.54678538]\n",
      "[1.8428146  1.84469987 2.21204524 0.14310116 0.09544096] [0.3206808  0.13989936 0.42558895 0.0209252  0.54637901]\n",
      "[1.83851668 1.84580146 2.21629061 0.14127441 0.09680678] [0.32045219 0.13975814 0.42540962 0.01947414 0.54597972]\n",
      "[1.83428285 1.8470007  2.22050612 0.13941058 0.09816076] [0.32022254 0.13961065 0.42523196 0.01785218 0.54558688]\n",
      "[1.83010715 1.84830443 2.22469942 0.13751688 0.09950549] [0.31999098 0.13945555 0.4250558  0.016029   0.54519987]\n",
      "[1.82598778 1.84972082 2.2288825  0.13559621 0.10084032] [0.31975679 0.13929158 0.42488089 0.01396822 0.5448214 ]\n",
      "[1.82192152 1.85125787 2.23306798 0.13365971 0.10216503] [0.31951885 0.13911709 0.42470694 0.01162363 0.54445119]\n",
      "[1.81790608 1.85292286 2.23727078 0.13172445 0.1034794 ] [0.31927273 0.13892867 0.42453202 0.00894086 0.54397437]\n",
      "[1.81394176 1.85470328 2.24144217 0.12980567 0.10484509] [0.31902324 0.13872749 0.42435671 0.00588652 0.54355158]\n",
      "[1.81001361 1.85661032 2.24566171 0.12796713 0.10620384] [0.318766   0.13851069 0.42418103 0.00237745 0.54312881]\n",
      "[1.80612814 1.85862426 2.24993996 0.12627907 0.10756286] [0.31854191 0.13834316 0.42401573 0.         0.54292255]\n",
      "[1.80241072 1.85980598 2.25390204 0.12498698 0.1088236 ] [0.31837592 0.13827799 0.42387144 0.         0.54293321]\n",
      "[1.7989381  1.85952911 2.25724032 0.12413388 0.10990824] [0.31820198 0.13821863 0.42373297 0.         0.54268902]\n",
      "[1.79555808 1.85913751 2.26043461 0.12343195 0.11100277 0.        ] [0.31803255 0.13816405 0.42359715 0.         0.54243588 0.55172414]\n",
      "[1.7922334  1.85874192 2.26353483 0.12280512 0.11209078 0.        ] [0.31786769 0.13811306 0.42346367 0.         0.54218011 0.55172414]\n",
      "[1.78896642 1.85835022 2.26654253 0.1222309  0.11317529 0.        ] [0.31770714 0.13806485 0.42333242 0.         0.54192227 0.55172414]\n",
      "[1.78575888 1.85796506 2.26946071 0.12169548 0.11425713 0.        ] [0.31755058 0.13801886 0.42320334 0.         0.5416624  0.55172414]\n",
      "[1.78261152 1.85758749 2.27229284 0.12119001 0.11533618 0.        ] [0.31739778 0.13797474 0.42307639 0.         0.54139966 0.55172414]\n",
      "[1.77952448 1.85721779 2.27504149 0.1207088  0.1164126  0.        ] [0.31724854 0.13793222 0.42295156 0.         0.54113611 0.55172414]\n",
      "[1.77649702 1.85685619 2.27771194 0.12024782 0.1174845  0.        ] [0.31710273 0.13789109 0.42282883 0.         0.54087436 0.55172414]\n",
      "[1.7735281  1.85650331 2.28030917 0.11980332 0.11855021 0.        ] [0.31696005 0.13785124 0.42270822 0.         0.54061119 0.55172414]\n",
      "[1.77061741 1.85615739 2.28283476 0.11937476 0.11960968 0.        ] [0.31682044 0.13781258 0.42258969 0.         0.54034853 0.55172414]\n",
      "[1.76776361 1.85581884 2.28529219 0.11896034 0.12066197 0.        ] [0.31668379 0.137775   0.42247321 0.         0.54008699 0.55172414]\n",
      "[1.76496559 1.85548748 2.28768442 0.1185588  0.12170635 0.        ] [0.31654998 0.13773845 0.42235877 0.         0.53982699 0.55172414]\n",
      "[1.7622222  1.85516308 2.29001415 0.11816916 0.1227422  0.        ] [0.31641892 0.13770286 0.42224634 0.         0.53956889 0.55172414]\n",
      "[1.75953229 1.85484542 2.29228388 0.1177906  0.12376902 0.        ] [0.31629051 0.13766817 0.42213588 0.         0.53931297 0.55172414]\n",
      "[1.7568947  1.85453428 2.29449591 0.11742243 0.1247864  0.        ] [0.31616468 0.13763434 0.42202736 0.         0.53905949 0.55172414]\n",
      "[1.7543083  1.85422948 2.29665238 0.11706406 0.12579401 0.        ] [0.31604134 0.13760133 0.42192076 0.         0.5388086  0.55172414]\n",
      "[1.75177193 1.85393083 2.29875526 0.11671496 0.12679161 0.        ] [0.31592043 0.1375691  0.42181604 0.         0.53856047 0.55172414]\n",
      "[1.7492845  1.85363813 2.3008064  0.11637469 0.12777899 0.        ] [0.31580187 0.13753763 0.42171317 0.         0.53831518 0.55172414]\n",
      "[1.74684489 1.85335124 2.30280753 0.11604282 0.12875602 0.        ] [0.3156856  0.13750687 0.42161211 0.         0.53807281 0.55172414]\n",
      "[1.74445203 1.85306998 2.30476027 0.11571901 0.12972261 0.        ] [0.31557156 0.13747681 0.42151282 0.         0.53783339 0.55172414]\n",
      "[1.74210487 1.8527942  2.3066661  0.11540291 0.13067873 0.        ] [0.31545969 0.13744741 0.42141527 0.         0.53759687 0.55172414]\n",
      "[1.73980237 1.85252378 2.30852641 0.11509416 0.13162443 0.        ] [0.31534994 0.13741867 0.42131943 0.         0.53736365 0.55172414]\n",
      "[1.73754346 1.85225863 2.31034285 0.11479258 0.13255946 0.        ] [0.3152422  0.13739057 0.42122528 0.         0.53713189 0.55172414]\n",
      "[1.7353274  1.85199781 2.31211564 0.11449869 0.13348449 0.        ] [0.31513658 0.13736306 0.42113274 0.         0.53690514 0.55172414]\n",
      "[1.73315265 1.851743   2.31384773 0.11421063 0.13439867 0.        ] [0.31503291 0.13733614 0.42104181 0.         0.53668145 0.55172414]\n",
      "[1.73101867 1.85149293 2.31553978 0.11392896 0.13530222 0.        ] [0.31493115 0.13730978 0.42095246 0.         0.53646056 0.55172414]\n",
      "[1.72892456 1.85124745 2.31719272 0.11365355 0.13619537 0.        ] [0.31483128 0.13728401 0.42086465 0.         0.53624206 0.55172414]\n",
      "[1.72686954 1.85100642 2.31880665 0.11338476 0.13707864 0.        ] [0.31473324 0.13725875 0.42077836 0.         0.53602739 0.55172414]\n",
      "[1.72485237 1.85077012 2.32038463 0.11312137 0.1379511  0.        ] [0.31463697 0.137234   0.42069354 0.         0.53581527 0.55172414]\n",
      "[1.72287247 1.85053803 2.32192657 0.11286358 0.13881351 0.        ] [0.31454246 0.13720977 0.42061018 0.         0.53560623 0.55172414]\n",
      "[1.72092887 1.85031034 2.32343354 0.11261132 0.13966584 0.        ] [0.31444965 0.13718603 0.42052823 0.         0.53540005 0.55172414]\n",
      "[1.71902078 1.85008671 2.3249067  0.11236457 0.14050803 0.        ] [0.31435856 0.13716281 0.42044767 0.         0.53519667 0.55172414]\n",
      "[1.71714749 1.84986731 2.32634609 0.11212334 0.1413406  0.        ] [0.31426907 0.13714002 0.42036847 0.         0.53499615 0.55172414]\n",
      "[1.71530813 1.84965194 2.32775362 0.11188673 0.14216333 0.        ] [0.31418122 0.13711771 0.4202906  0.         0.53479849 0.55172414]\n",
      "[1.71350202 1.84944052 2.32912953 0.11165546 0.14297634 0.        ] [0.31409483 0.13709584 0.42021403 0.         0.53460263 0.55172414]\n",
      "[1.71172814 1.84923232 2.33047513 0.11142906 0.14378006 0.        ] [0.31401014 0.13707441 0.42013873 0.         0.53441156 0.55172414]\n",
      "[1.70998598 1.84902908 2.33179145 0.11120679 0.14457365 0.\n",
      " 0.        ] [0.31392688 0.13705339 0.4200647  0.         0.53422225 0.55172414\n",
      " 0.51724138]\n",
      "[1.70827505 1.84882899 2.33307855 0.11098928 0.14535805 0.\n",
      " 0.        ] [0.31384509 0.13703278 0.41999188 0.         0.53403547 0.55172414\n",
      " 0.51724138]\n",
      "[1.70659452 1.84863254 2.33433719 0.11077613 0.14613338 0.\n",
      " 0.        ] [0.31376475 0.1370126  0.41992028 0.         0.53385149 0.55172414\n",
      " 0.51724138]\n",
      "[1.70494384 1.84843955 2.33556859 0.11056755 0.14689913 0.\n",
      " 0.        ] [0.3136858  0.13699281 0.41984987 0.         0.53366994 0.55172414\n",
      " 0.51724138]\n",
      "[1.7033223  1.84824991 2.33677313 0.1103633  0.1476558  0.\n",
      " 0.        ] [0.31360825 0.13697339 0.41978059 0.         0.53349085 0.55172414\n",
      " 0.51724138]\n",
      "[1.70172921 1.84806379 2.33795123 0.11016298 0.1484038  0.\n",
      " 0.        ] [0.31353205 0.13695437 0.41971246 0.         0.5333145  0.55172414\n",
      " 0.51724138]\n",
      "[1.70016392 1.84788095 2.33910422 0.10996685 0.14914263 0.\n",
      " 0.        ] [0.31345716 0.1369357  0.41964541 0.         0.53314031 0.55172414\n",
      " 0.51724138]\n",
      "[1.69862574 1.84770135 2.34023212 0.10977448 0.14987315 0.\n",
      " 0.        ] [0.31338352 0.13691734 0.4195794  0.         0.53296765 0.55172414\n",
      " 0.51724138]\n",
      "[1.69711378 1.84752486 2.34133522 0.10958529 0.15059629 0.\n",
      " 0.        ] [0.31331125 0.13689941 0.41951452 0.         0.53279916 0.55172414\n",
      " 0.51724138]\n",
      "[1.69562834 1.84735174 2.34241601 0.10940089 0.15130879 0.\n",
      " 0.        ] [0.31324012 0.13688178 0.41945064 0.         0.53263218 0.55172414\n",
      " 0.51724138]\n",
      "[1.69416771 1.84718133 2.34347408 0.10921958 0.15201377 0.\n",
      " 0.        ] [0.31317029 0.13686453 0.41938784 0.         0.53246813 0.55172414\n",
      " 0.51724138]\n",
      "[1.69273299 1.84701406 2.34450946 0.10904238 0.1527094  0.\n",
      " 0.        ] [0.31310157 0.13684754 0.41932596 0.         0.53230519 0.55172414\n",
      " 0.51724138]\n",
      "[1.69132192 1.84684965 2.34552223 0.1088678  0.15339864 0.\n",
      " 0.        ] [0.31303404 0.13683088 0.41926508 0.         0.53214447 0.55172414\n",
      " 0.51724138]\n",
      "[1.68993514 1.84668809 2.34651336 0.10869679 0.15407961 0.\n",
      " 0.        ] [0.31296769 0.13681456 0.41920518 0.         0.53198639 0.55172414\n",
      " 0.51724138]\n",
      "[1.68857195 1.84652942 2.34748391 0.10852934 0.15475208 0.\n",
      " 0.        ] [0.31290248 0.13679857 0.41914625 0.         0.53183105 0.55172414\n",
      " 0.51724138]\n"
     ]
    },
    {
     "name": "stdout",
     "output_type": "stream",
     "text": [
      "[1.68723195 1.84637351 2.34843472 0.10836553 0.15541574 0.\n",
      " 0.        ] [0.31283839 0.13678289 0.41908829 0.         0.53167844 0.55172414\n",
      " 0.51724138]\n",
      "[1.6859146  1.84622022 2.34936661 0.1082052  0.15607056 0.\n",
      " 0.        ] [0.31277531 0.1367675  0.41903121 0.         0.53152738 0.55172414\n",
      " 0.51724138]\n",
      "[1.68461886 1.84606923 2.35027933 0.108048   0.15671807 0.\n",
      " 0.        ] [0.31271321 0.13675234 0.418975   0.         0.53137742 0.55172414\n",
      " 0.51724138]\n",
      "[1.68334478 1.84592054 2.35117266 0.10789316 0.15735875 0.\n",
      " 0.        ] [0.3126523  0.13673742 0.41891966 0.         0.53122984 0.55172414\n",
      " 0.51724138]\n",
      "[1.68209301 1.84577562 2.3520452  0.10773999 0.15799275 0.\n",
      " 0.        ] [0.31259241 0.13672283 0.41886519 0.         0.53108459 0.55172414\n",
      " 0.51724138]\n",
      "[1.68086185 1.84563293 2.35290036 0.10759067 0.15861855 0.\n",
      " 0.        ] [0.3125335  0.13670853 0.41881159 0.         0.53094164 0.55172414\n",
      " 0.51724138]\n",
      "[1.67965085 1.84549238 2.35373906 0.10744473 0.15923612 0.\n",
      " 0.        ] [0.31247557 0.13669451 0.41875886 0.         0.53080126 0.55172414\n",
      " 0.51724138]\n",
      "[1.6784599  1.84535408 2.35456168 0.10730198 0.15984524 0.\n",
      " 0.        ] [0.31241855 0.13668074 0.41870693 0.         0.53066253 0.55172414\n",
      " 0.51724138]\n",
      "[1.67728811 1.84521796 2.35536779 0.10716178 0.16044746 0.\n",
      " 0.        ] [0.31236243 0.13666709 0.41865577 0.         0.53052526 0.55172414\n",
      " 0.51724138]\n",
      "[1.67613631 1.84508451 2.35615691 0.10702203 0.16104316 0.\n",
      " 0.        ] [0.31230727 0.1366538  0.41860542 0.         0.53039016 0.55172414\n",
      " 0.51724138]\n",
      "[1.67500261 1.84495286 2.35693072 0.10688695 0.16163113 0.\n",
      " 0.        ] [0.31225302 0.13664077 0.41855584 0.         0.53025729 0.55172414\n",
      " 0.51724138]\n",
      "[1.67388711 1.84482351 2.35768941 0.10675451 0.16221187 0.\n",
      " 0.        ] [0.31219964 0.13662795 0.418507   0.         0.53012603 0.55172414\n",
      " 0.51724138]\n",
      "[1.67278971 1.84469628 2.35843281 0.10662431 0.16278586 0.\n",
      " 0.        ] [0.3121467  0.1366156  0.41845927 0.         0.53000203 0.55172414\n",
      " 0.51724138]\n",
      "[1.6717069  1.84456707 2.35917967 0.10650237 0.16333994 0.\n",
      " 0.        ] [0.31209511 0.13660304 0.41841181 0.         0.52987368 0.55172414\n",
      " 0.51724138]\n",
      "[1.67064575 1.84444568 2.35989041 0.10637293 0.16390312 0.\n",
      " 0.        ] [0.31204432 0.13659075 0.41836508 0.         0.52974646 0.55172414\n",
      " 0.51724138]\n",
      "[1.66960146 1.8443256  2.36058698 0.10624706 0.16445957 0.\n",
      " 0.        ] [0.31199432 0.13657872 0.41831908 0.         0.52962063 0.55172414\n",
      " 0.51724138]\n",
      "[1.66857395 1.84420703 2.36126967 0.10612446 0.16500916 0.\n",
      " 0.        ] [0.31194511 0.13656695 0.41827371 0.         0.52949759 0.55172414\n",
      " 0.51724138]\n",
      "[1.66756049 1.84409051 2.36194145 0.10600456 0.16555205 0.\n",
      " 0.        ] [0.31189668 0.1365554  0.41822909 0.         0.52937555 0.55172414\n",
      " 0.51724138]\n",
      "[1.66656471 1.84397541 2.36259891 0.10588742 0.16608785 0.\n",
      " 0.        ] [0.31184905 0.13654404 0.41818512 0.         0.52925502 0.55172414\n",
      " 0.51724138]\n",
      "[1.66558468 1.84386241 2.36324285 0.10577209 0.16661787 0.\n",
      " 0.        ] [0.31180219 0.13653288 0.41814178 0.         0.52913606 0.55172414\n",
      " 0.51724138]\n",
      "[1.66462001 1.84375141 2.36387382 0.10565869 0.16714202 0.\n",
      " 0.         0.        ] [0.31175608 0.13652191 0.41809907 0.         0.52901869 0.55172414\n",
      " 0.51724138 0.51724138]\n",
      "[1.66367038 1.84364229 2.36449235 0.10554733 0.16766017 0.\n",
      " 0.         0.        ] [0.31171071 0.13651114 0.41805699 0.         0.52890297 0.55172414\n",
      " 0.51724138 0.51724138]\n",
      "[1.66273544 1.84353492 2.36509905 0.10543813 0.16817216 0.\n",
      " 0.         0.        ] [0.31166605 0.13650058 0.41801554 0.         0.52878896 0.55172414\n",
      " 0.51724138 0.51724138]\n",
      "[1.66181489 1.84342919 2.36569447 0.10533112 0.16867783 0.\n",
      " 0.         0.        ] [0.31162209 0.13649021 0.4179747  0.         0.52867667 0.55172414\n",
      " 0.51724138 0.51724138]\n",
      "[1.66090845 1.84332505 2.36627903 0.10522627 0.16917715 0.\n",
      " 0.         0.        ] [0.3115788  0.13648002 0.41793446 0.         0.52856606 0.55172414\n",
      " 0.51724138 0.51724138]\n",
      "[1.66001591 1.84322248 2.36685297 0.10512344 0.1696702  0.\n",
      " 0.         0.        ] [0.31153617 0.13647001 0.41789482 0.         0.52845704 0.55172414\n",
      " 0.51724138 0.51724138]\n",
      "[1.65913705 1.84312147 2.3674164  0.10502248 0.17015715 0.\n",
      " 0.         0.        ] [0.3114942  0.13646016 0.41785576 0.         0.52834953 0.55172414\n",
      " 0.51724138 0.51724138]\n",
      "[1.65827167 1.84302201 2.3679694  0.10492326 0.1706382  0.\n",
      " 0.         0.        ] [0.31145287 0.13645048 0.41781726 0.         0.52824346 0.55172414\n",
      " 0.51724138 0.51724138]\n",
      "[1.65741956 1.84292412 2.36851208 0.10482567 0.17111351 0.\n",
      " 0.         0.        ] [0.31141218 0.13644095 0.41777932 0.         0.52813878 0.55172414\n",
      " 0.51724138 0.51724138]\n",
      "[1.65658049 1.84282777 2.36904458 0.10472969 0.1715832  0.\n",
      " 0.         0.        ] [0.31137211 0.13643158 0.41774193 0.         0.52803547 0.55172414\n",
      " 0.51724138 0.51724138]\n",
      "[1.65575422 1.84273294 2.36956707 0.10463525 0.1720474  0.\n",
      " 0.         0.        ] [0.31133265 0.13642236 0.41770507 0.         0.52793348 0.55172414\n",
      " 0.51724138 0.51724138]\n",
      "[1.65494052 1.84263962 2.37007972 0.10454236 0.17250619 0.\n",
      " 0.         0.        ] [0.31129379 0.13641328 0.41766873 0.         0.52783279 0.55172414\n",
      " 0.51724138 0.51724138]\n",
      "[1.65413916 1.84254777 2.37058273 0.10445098 0.17295965 0.\n",
      " 0.         0.        ] [0.31125553 0.13640436 0.41763292 0.         0.52773339 0.55172414\n",
      " 0.51724138 0.51724138]\n",
      "[1.6533499  1.84245737 2.37107631 0.10436109 0.17340786 0.\n",
      " 0.         0.        ] [0.31121786 0.13639558 0.41759761 0.         0.52763526 0.55172414\n",
      " 0.51724138 0.51724138]\n",
      "[1.65257254 1.8423684  2.37156066 0.1042727  0.17385087 0.\n",
      " 0.         0.        ] [0.31118075 0.13638694 0.4175628  0.         0.52753839 0.55172414\n",
      " 0.51724138 0.51724138]\n",
      "[1.65180684 1.84228082 2.37203598 0.10418576 0.17428874 0.\n",
      " 0.         0.        ] [0.31114421 0.13637844 0.41752849 0.         0.52744276 0.55172414\n",
      " 0.51724138 0.51724138]\n",
      "[1.65105259 1.8421946  2.3725025  0.10410028 0.17472152 0.\n",
      " 0.         0.         0.        ] [0.31110822 0.13637008 0.41749466 0.         0.52734837 0.55172414\n",
      " 0.51724138 0.51724138 0.51724138]\n",
      "[1.65030958 1.84210972 2.37296044 0.10401624 0.17514925 0.\n",
      " 0.         0.         0.        ] [0.31107277 0.13636186 0.4174613  0.         0.52725521 0.55172414\n",
      " 0.51724138 0.51724138 0.51724138]\n",
      "[1.6495776  1.84202614 2.37341    0.10393362 0.17557197 0.\n",
      " 0.         0.         0.         0.        ] [0.31103786 0.13635378 0.41742841 0.         0.52716328 0.55172414\n",
      " 0.51724138 0.51724138 0.51724138 0.51724138]\n",
      "[1.64885645 1.84194383 2.3738514  0.1038524  0.17598972 0.\n",
      " 0.         0.         0.         0.        ] [0.31100347 0.13634583 0.41739599 0.         0.52707256 0.55172414\n",
      " 0.51724138 0.51724138 0.51724138 0.51724138]\n"
     ]
    }
   ],
   "source": [
    "hist_coord_descent, out_coord_descent = ADCG(coordinate_descent, 10)"
   ]
  },
  {
   "cell_type": "code",
   "execution_count": 63,
   "metadata": {},
   "outputs": [
    {
     "name": "stdout",
     "output_type": "stream",
     "text": [
      "[0.31107277 0.13636186 0.4174613  0.         0.52725521 0.55172414\n",
      " 0.51724138 0.51724138 0.51724138]\n"
     ]
    }
   ],
   "source": [
    "print hist_coord_descent[-1][1]"
   ]
  },
  {
   "cell_type": "code",
   "execution_count": 50,
   "metadata": {},
   "outputs": [
    {
     "name": "stdout",
     "output_type": "stream",
     "text": [
      "('True thetas:', array([0.45958766, 0.39289178, 0.1278849 , 0.30927503]))\n",
      "('Coordinate descent estimate:', array([0.32778006, 0.13610512, 0.4357083 ]))\n",
      "('Joint optimization estimate:', array([0.1337694 , 0.42844175, 0.31755938]))\n"
     ]
    }
   ],
   "source": [
    "### Let's run it!\n",
    "theta_cd = select_k(ADCG(coordinate_descent, 10))\n",
    "theta_nl = select_k(ADCG(local_search, 10))\n",
    "print(\"True thetas:\", true_thetas)\n",
    "print(\"Coordinate descent estimate:\", theta_cd)\n",
    "print(\"Joint optimization estimate:\", theta_nl)"
   ]
  },
  {
   "cell_type": "code",
   "execution_count": 59,
   "metadata": {},
   "outputs": [
    {
     "data": {
      "text/plain": [
       "[<matplotlib.lines.Line2D at 0x151e56c8d0>]"
      ]
     },
     "execution_count": 59,
     "metadata": {},
     "output_type": "execute_result"
    },
    {
     "data": {
      "image/png": "[encoded data removed]",
      "text/plain": [
       "<Figure size 432x288 with 1 Axes>"
      ]
     },
     "metadata": {
      "needs_background": "light"
     },
     "output_type": "display_data"
    }
   ],
   "source": [
    "plt.plot(evaluation_points, y)\n",
    "plt.plot(evaluation_points, out_coord_descent)"
   ]
  },
  {
   "cell_type": "code",
   "execution_count": null,
   "metadata": {},
   "outputs": [],
   "source": []
  }
 ],
 "metadata": {
  "kernelspec": {
   "display_name": "Python 3",
   "language": "python",
   "name": "python3"
  },
  "language_info": {
   "codemirror_mode": {
    "name": "ipython",
    "version": 2
   },
   "file_extension": ".py",
   "mimetype": "text/x-python",
   "name": "python",
   "nbconvert_exporter": "python",
   "pygments_lexer": "ipython2",
   "version": "2.7.15"
  }
 },
 "nbformat": 4,
 "nbformat_minor": 2
}
