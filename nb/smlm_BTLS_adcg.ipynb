{
 "cells": [
  {
   "cell_type": "code",
   "execution_count": 1,
   "metadata": {},
   "outputs": [],
   "source": [
    "import os\n",
    "import time \n",
    "import numpy as onp\n",
    "import scipy.stats as stats\n",
    "from PIL import Image\n",
    "# --- jax --- \n",
    "import autograd as Agrad\n",
    "import autograd.numpy as np \n",
    "import scipy.optimize"
   ]
  },
  {
   "cell_type": "code",
   "execution_count": 2,
   "metadata": {},
   "outputs": [],
   "source": [
    "# -- plotting --- \n",
    "import matplotlib as mpl \n",
    "import matplotlib.pyplot as plt\n",
    "mpl.rcParams['text.usetex'] = True\n",
    "mpl.rcParams['font.family'] = 'serif'\n",
    "mpl.rcParams['axes.linewidth'] = 1.5\n",
    "mpl.rcParams['axes.xmargin'] = 1\n",
    "mpl.rcParams['xtick.labelsize'] = 'x-large'\n",
    "mpl.rcParams['xtick.major.size'] = 5\n",
    "mpl.rcParams['xtick.major.width'] = 1.5\n",
    "mpl.rcParams['ytick.labelsize'] = 'x-large'\n",
    "mpl.rcParams['ytick.major.size'] = 5\n",
    "mpl.rcParams['ytick.major.width'] = 1.5\n",
    "mpl.rcParams['legend.frameon'] = False"
   ]
  },
  {
   "cell_type": "markdown",
   "metadata": {},
   "source": [
    "## gridding"
   ]
  },
  {
   "cell_type": "code",
   "execution_count": 3,
   "metadata": {},
   "outputs": [],
   "source": [
    "Ngrid = 64 # 64x64 pixels \n",
    "\n",
    "xpix = np.linspace(0., 1., Ngrid) # default pixel gridding \n",
    "ypix = np.linspace(0., 1., Ngrid) \n",
    "\n",
    "_xxpix, _yypix = np.meshgrid(xpix, ypix) \n",
    "xxpix = _xxpix.flatten()\n",
    "yypix = _yypix.flatten()\n",
    "xypix = np.array([xxpix, yypix]).T"
   ]
  },
  {
   "cell_type": "markdown",
   "metadata": {},
   "source": [
    "## PSF"
   ]
  },
  {
   "cell_type": "code",
   "execution_count": 4,
   "metadata": {},
   "outputs": [],
   "source": [
    "fwhm_psf = 258.21 / 100. / float(Ngrid) # pixels\n",
    "sig_psf = fwhm_psf / 2.35482004503\n",
    "cov_psf = sig_psf**2 * np.identity(2)\n",
    "cinv_psf = np.linalg.inv(cov_psf)"
   ]
  },
  {
   "cell_type": "code",
   "execution_count": 5,
   "metadata": {},
   "outputs": [],
   "source": [
    "def psi(theta): \n",
    "    ''' measurement model (2d gaussian of width sigma PSF) written out to x,y grid\n",
    "    '''\n",
    "    return np.exp(-0.5 * np.array([dxy @ (cinv_psf @ dxy.T) for dxy in (xypix - theta[None,:])]))"
   ]
  },
  {
   "cell_type": "code",
   "execution_count": null,
   "metadata": {},
   "outputs": [],
   "source": [
    "theta_xgrid = np.linspace(0., 1., Ngrid) \n",
    "theta_ygrid = np.linspace(0., 1., Ngrid) \n",
    "_theta_xxgrid, _theta_yygrid = np.meshgrid(theta_xgrid, theta_ygrid) \n",
    "theta_xygrid = np.array([_theta_xxgrid.flatten(), _theta_yygrid.flatten()]).T\n",
    "grid_psi = np.stack([psi(tt) for tt in theta_xygrid])  "
   ]
  },
  {
   "cell_type": "code",
   "execution_count": null,
   "metadata": {},
   "outputs": [],
   "source": [
    "def Psi(ws, thetas): \n",
    "    ''' \"forward operator\" i.e. forward model \n",
    "    \n",
    "    Psi = int psi(theta) dmu(theta) \n",
    "\n",
    "    where mu is the signal parameter\n",
    "    '''\n",
    "    _thetas = np.atleast_2d(thetas)\n",
    "    return np.sum(np.array([w * psi(tt) for (w,tt) in zip(ws, _thetas)]),0)"
   ]
  },
  {
   "cell_type": "markdown",
   "metadata": {},
   "source": [
    "## ADCG"
   ]
  },
  {
   "cell_type": "code",
   "execution_count": null,
   "metadata": {},
   "outputs": [],
   "source": [
    "def ell(ws, thetas, yobs): \n",
    "    ''' loss function \n",
    "    '''\n",
    "    if len(thetas.shape) == 1 and thetas.shape[0] > 2: \n",
    "        thetas = thetas.reshape((int(thetas.shape[0]/2), 2))\n",
    "    return ((Psi(ws, thetas) - yobs)**2).sum() \n",
    "\n",
    "\n",
    "def gradell(ws, thetas, yobs):  \n",
    "    ''' gradient of the loss fucntion \n",
    "    '''\n",
    "    return (Psi(ws, thetas) - yobs)/((Psi(ws, thetas) - yobs)**2).sum() \n",
    "\n",
    "\n",
    "def lmo(v): \n",
    "    ''' step 1 of ADCG: \"linear maximization oracle\". This function does the following \n",
    "    optimization \n",
    "    \n",
    "    argmin < psi(theta), v > \n",
    "\n",
    "    where for ADCG, v = the gradient of loss. For simplicity, we grid up theta to \n",
    "    theta_grid and calculate grid_psi minimize the inner product \n",
    "    '''\n",
    "    ip = (grid_psi @ v) \n",
    "    return theta_xygrid[ip.argmin()] \n",
    "\n",
    "\n",
    "def coordinate_descent(thetas, yobs, lossFn, iter=35, min_drop=1e-5, **lossfn_kwargs):  \n",
    "    ''' step 2 of ADCG (nonconvex optimization using block coordinate descent algorithm).\n",
    "    compute weights, prune support, locally improve support\n",
    "    '''\n",
    "    def min_ws(): \n",
    "        # non-negative least square solver to find the weights that minimize loss \n",
    "        return scipy.optimize.nnls(np.stack([psi(tt) for tt in thetas]).T, yobs)[0]\n",
    "\n",
    "    def min_thetas(): \n",
    "        res =  scipy.optimize.minimize(\n",
    "                Agrad.value_and_grad(lambda tts: lossFn(ws, tts, yobs, **lossfn_kwargs)), thetas, \n",
    "                jac=True, method='L-BFGS-B', bounds=[(0.0, 1.0)]*2*thetas.shape[0])\n",
    "        return res['x'], res['fun']\n",
    "\n",
    "    old_f_val = np.Inf\n",
    "    for i in range(iter): \n",
    "        thetas = np.atleast_2d(thetas)\n",
    "\n",
    "        ws = min_ws() # get weights that minimize loss\n",
    "\n",
    "        thetas, f_val = min_thetas() # keeping weights fixed, minimize loss \n",
    "    \n",
    "        if len(thetas.shape) == 1 and thetas.shape[0] > 2: \n",
    "            thetas = thetas.reshape((int(thetas.shape[0]/2), 2))\n",
    "\n",
    "        if old_f_val - f_val < min_drop: # if loss function doesn't improve by much\n",
    "            break \n",
    "        old_f_val = f_val.copy()\n",
    "    return ws, thetas \n",
    "\n",
    "\n",
    "def adcg(yobs, lossFn, gradlossFn, local_update, max_iters, **lossfn_kwargs): \n",
    "    ''' Alternative Descent Conditional Gradient \n",
    "    '''\n",
    "    thetas, ws = np.zeros(0), np.zeros(0) \n",
    "    output = np.zeros(len(xypix)) \n",
    "\n",
    "    history = [] \n",
    "    for i in range(max_iters): \n",
    "        residual = output - yobs\n",
    "        loss = lossFn(ws, thetas, yobs, **lossfn_kwargs) \n",
    "        print('  iter=%i, loss=%f' % (i, loss)) \n",
    "        history.append((loss, ws, thetas))\n",
    "    \n",
    "        # get gradient of loss function \n",
    "        grad = gradlossFn(ws, thetas, yobs, **lossfn_kwargs) \n",
    "        # compute new support\n",
    "        theta = lmo(grad)\n",
    "        # update signal parameters  \n",
    "        if i == 0: _thetas = np.append(thetas, theta)\n",
    "        else: _thetas = np.append(np.atleast_2d(thetas), np.atleast_2d(theta), axis=0)\n",
    "\n",
    "        ws, thetas = local_update(_thetas, yobs, lossFn, **lossfn_kwargs)\n",
    "\n",
    "        # calculate output \n",
    "        output = Psi(ws, thetas)\n",
    "        \n",
    "        if (i > 2) and (history[-2][0] - history[-1][0] < 1.):  \n",
    "            return loss, ws, thetas\n",
    "\n",
    "    return loss, ws, thetas"
   ]
  },
  {
   "cell_type": "markdown",
   "metadata": {},
   "source": [
    "## example 0: fake data"
   ]
  },
  {
   "cell_type": "code",
   "execution_count": null,
   "metadata": {},
   "outputs": [],
   "source": [
    "np.random.seed(0)\n",
    "def obs2d(N_source=5, sig_noise=5.):  \n",
    "    ''' generate and write out 2d observations on a xypix. Takes positions \n",
    "    and \"intensities\" (weights) and convolves them with a PSF and adds noise \n",
    "    '''\n",
    "    thetas = np.array([np.random.uniform(0, 1, N_source), np.random.uniform(0, 1, N_source)]).T # x_true, y_true positions \n",
    "    weights = np.repeat(100., N_source) #np.random.rand(N_source)*2 # weights --- in SMLM intensities \n",
    "    return thetas, weights, Psi(weights, thetas) + sig_noise * np.random.randn(len(xypix)) \n",
    "\n",
    "eg0_thetas, eg0_weights, eg0_data = obs2d()\n",
    "eg0_true_data = Psi(eg0_weights, eg0_thetas)"
   ]
  },
  {
   "cell_type": "code",
   "execution_count": null,
   "metadata": {},
   "outputs": [],
   "source": [
    "loss, ws, thetas  = adcg(eg0_data, ell, gradell, coordinate_descent, 30)\n",
    "output_adcg = Psi(ws, thetas) "
   ]
  },
  {
   "cell_type": "code",
   "execution_count": null,
   "metadata": {},
   "outputs": [],
   "source": [
    "# plot data \n",
    "fig = plt.figure(figsize=(15,5))\n",
    "sub = fig.add_subplot(141)\n",
    "sub.imshow(eg0_data.reshape(_xxpix.shape))\n",
    "sub.set_title(r'$y_{\\rm obs}$', fontsize=20) \n",
    "\n",
    "sub = fig.add_subplot(142)\n",
    "sub.imshow(eg0_true_data.reshape(_xxpix.shape))\n",
    "sub.set_title(r'$y_{\\rm true}$', fontsize=20) \n",
    "\n",
    "sub = fig.add_subplot(143) \n",
    "sub.imshow(output_adcg.reshape(_xxpix.shape))\n",
    "sub.set_title(r'$y_{\\rm adcg}$', fontsize=20) \n",
    "\n",
    "sub = fig.add_subplot(144) \n",
    "sub.imshow((eg0_data - output_adcg).reshape(_xxpix.shape))\n",
    "sub.set_title(r'$y_{\\rm true} - y_{\\rm adcg}$', fontsize=20) "
   ]
  },
  {
   "cell_type": "markdown",
   "metadata": {},
   "source": [
    "## example 1: BTLS"
   ]
  },
  {
   "cell_type": "code",
   "execution_count": null,
   "metadata": {},
   "outputs": [],
   "source": [
    "dir_tub = '/Users/ChangHoon/data/locahbay/smlm/bundled_tubes_long_seq/'"
   ]
  },
  {
   "cell_type": "code",
   "execution_count": null,
   "metadata": {},
   "outputs": [],
   "source": [
    "def read_frame(i): \n",
    "    f_frame = os.path.join(dir_tub, 'sequence', '%s.tif' % str(i).zfill(5))\n",
    "\n",
    "    im = Image.open(f_frame)\n",
    "    imarr = np.array(im)\n",
    "    \n",
    "    # back ground subtraction \n",
    "    noise_level = np.median(stats.sigmaclip(imarr.flatten(), high=3.)[0])\n",
    "    return imarr - noise_level\n",
    "\n",
    "def read_fluorophorses(i): \n",
    "    f_fluor = os.path.join(dir_tub, 'fluorophores', 'frames', '%s.csv' % str(i).zfill(5)) \n",
    "    try: \n",
    "        x, y, z, I = np.loadtxt(f_fluor, delimiter=',', skiprows=1, unpack=True, usecols=[2,3,4,5]) # positions in nm\n",
    "    except ValueError: \n",
    "        # no fluorophores\n",
    "        x = np.array([])\n",
    "        y = np.array([])\n",
    "        z = np.array([])\n",
    "        \n",
    "    # convert to pixels\n",
    "    return np.array([x/100., y/100., z/100.])"
   ]
  },
  {
   "cell_type": "code",
   "execution_count": null,
   "metadata": {
    "scrolled": true
   },
   "outputs": [],
   "source": [
    "for i in range(1,101): \n",
    "    print('Frame %i' % i)\n",
    "    frame = read_frame(i)\n",
    "    truth = read_fluorophorses(i)\n",
    "    \n",
    "    loss, ws, thetas = adcg(frame.flatten(), ell, gradell, coordinate_descent, 5)\n",
    "    output_adcg = Psi(ws, thetas) \n",
    "    \n",
    "    _im = Image.fromarray(output_adcg.reshape(_xxpix.shape))\n",
    "    \n",
    "    # writeout \n",
    "    _im.save(os.path.join('/Users/ChangHoon/data/locahbay/smlm/bundled_tubes_long_seq/adcg', \n",
    "                          '%s.tiff' % str(i).zfill(5)))\n",
    "    \n",
    "    # plot data \n",
    "    fig = plt.figure(figsize=(15,5))\n",
    "    sub = fig.add_subplot(131)\n",
    "    sub.imshow(frame)\n",
    "    sub.set_title(r'$y_{\\rm obs}$', fontsize=20) \n",
    "\n",
    "    sub = fig.add_subplot(132) \n",
    "    sub.imshow(output_adcg.reshape(_xxpix.shape))\n",
    "    sub.scatter(truth[0,:], truth[1,:], s=200, facecolors='none', edgecolor='r', linewidths=4)   \n",
    "    sub.set_title(r'$y_{\\rm adcg}$', fontsize=20) \n",
    "\n",
    "    sub = fig.add_subplot(133) \n",
    "    sub.imshow(frame - (output_adcg).reshape(_xxpix.shape))\n",
    "    sub.set_title(r'$y_{\\rm true} - y_{\\rm adcg}$', fontsize=20) \n",
    "    fig.savefig(os.path.join('/Users/ChangHoon/data/locahbay/smlm/bundled_tubes_long_seq/adcg', \n",
    "                          '%s.png' % str(i).zfill(5)))\n",
    "    plt.close()"
   ]
  },
  {
   "cell_type": "code",
   "execution_count": null,
   "metadata": {},
   "outputs": [],
   "source": []
  }
 ],
 "metadata": {
  "kernelspec": {
   "display_name": "Python 3",
   "language": "python",
   "name": "python3"
  },
  "language_info": {
   "codemirror_mode": {
    "name": "ipython",
    "version": 3
   },
   "file_extension": ".py",
   "mimetype": "text/x-python",
   "name": "python",
   "nbconvert_exporter": "python",
   "pygments_lexer": "ipython3",
   "version": "3.7.6"
  }
 },
 "nbformat": 4,
 "nbformat_minor": 4
}
