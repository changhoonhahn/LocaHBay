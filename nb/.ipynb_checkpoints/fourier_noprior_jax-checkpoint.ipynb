{
 "cells": [
  {
   "cell_type": "code",
   "execution_count": 1,
   "metadata": {},
   "outputs": [],
   "source": [
    "import jax.numpy as np\n",
    "from jax import grad, jit, vmap, random\n",
    "from jax.ops import index, index_add, index_update\n",
    "\n",
    "import numpy as onp\n",
    "# -- plotting --- \n",
    "import matplotlib as mpl \n",
    "import matplotlib.pyplot as plt\n",
    "mpl.rcParams['text.usetex'] = True\n",
    "mpl.rcParams['font.family'] = 'serif'\n",
    "mpl.rcParams['axes.linewidth'] = 1.5\n",
    "mpl.rcParams['axes.xmargin'] = 1\n",
    "mpl.rcParams['xtick.labelsize'] = 'x-large'\n",
    "mpl.rcParams['xtick.major.size'] = 5\n",
    "mpl.rcParams['xtick.major.width'] = 1.5\n",
    "mpl.rcParams['ytick.labelsize'] = 'x-large'\n",
    "mpl.rcParams['ytick.major.size'] = 5\n",
    "mpl.rcParams['ytick.major.width'] = 1.5\n",
    "mpl.rcParams['legend.frameon'] = False"
   ]
  },
  {
   "cell_type": "code",
   "execution_count": 2,
   "metadata": {},
   "outputs": [
    {
     "name": "stderr",
     "output_type": "stream",
     "text": [
      "/Users/ChangHoon/opt/anaconda3/envs/sparse/lib/python3.7/site-packages/jax/lib/xla_bridge.py:116: UserWarning: No GPU/TPU found, falling back to CPU.\n",
      "  warnings.warn('No GPU/TPU found, falling back to CPU.')\n"
     ]
    }
   ],
   "source": [
    "Ndata = 5\n",
    "n_grid = 15\n",
    "pix_1d = np.linspace(0., 1., n_grid) # pixel gridding\n",
    "\n",
    "fdensity_true = float(Ndata)/float(n_grid**2); #number density of obj in 1d\n",
    "\n",
    "sig_psf = 0.1 # psf width\n",
    "sig_noise = 0.1 # noise level"
   ]
  },
  {
   "cell_type": "code",
   "execution_count": 3,
   "metadata": {},
   "outputs": [],
   "source": [
    "#create our psf\n",
    "mid = int(n_grid/2);\n",
    "x,y = np.meshgrid(pix_1d, pix_1d)\n",
    "psf = np.exp(-((y-pix_1d[mid])**2 + (x - pix_1d[mid])**2)/2/sig_psf**2) #keep in mind difference between x and y position and indices! Here, you are given indices, but meshgrid is in x-y coords"
   ]
  },
  {
   "cell_type": "code",
   "execution_count": 4,
   "metadata": {},
   "outputs": [
    {
     "data": {
      "text/plain": [
       "<matplotlib.image.AxesImage at 0x7f86b0329290>"
      ]
     },
     "execution_count": 4,
     "metadata": {},
     "output_type": "execute_result"
    },
    {
     "data": {
      "image/png": "[encoded data removed]",
      "text/plain": [
       "<Figure size 432x288 with 1 Axes>"
      ]
     },
     "metadata": {
      "needs_background": "light"
     },
     "output_type": "display_data"
    }
   ],
   "source": [
    "#display psf\n",
    "plt.imshow(psf)"
   ]
  },
  {
   "cell_type": "code",
   "execution_count": 5,
   "metadata": {},
   "outputs": [],
   "source": [
    "#fourier transform of psf\n",
    "psf_k = np.fft.fft2(psf)"
   ]
  },
  {
   "cell_type": "code",
   "execution_count": 6,
   "metadata": {},
   "outputs": [],
   "source": [
    "#create the mock data we will work on\n",
    "#create coordinate grid\n",
    "theta_grid = np.linspace(0., 1., n_grid) # gridding of theta (same as pixels)\n",
    "\n",
    "#create true values - assign to grid\n",
    "key = random.PRNGKey(0)\n",
    "key0, key1, key2 = random.split(key, num=3)\n",
    "x_true = random.uniform(key0, (Ndata,)) #np.abs(np.random.rand(Ndata)) # location of sources\n",
    "y_true = random.uniform(key1, (Ndata,))\n",
    "w_true = random.uniform(key2, (Ndata,))*2 # with intensity betwen 1-2\n",
    "\n",
    "#true grid needs to be set up with noise\n",
    "w_true_grid = np.zeros((n_grid,n_grid))\n",
    "for x, y, w in zip(x_true, y_true, w_true): \n",
    "    w_true_grid = index_update(w_true_grid, index[np.argmin(np.abs(theta_grid - x)), np.argmin(np.abs(theta_grid - y))], w)\n",
    "    \n",
    "    \n",
    "#now create the 'data' by convolving with psf and adding random noise\n",
    "#by convolution thrm we conolve by inverse tranforming the multiplication of the fft of the data and fft of the psf\n",
    "\n",
    "data = np.real(np.fft.ifft2(np.fft.fft2(w_true_grid)*psf_k)) + sig_noise* random.normal(key, (n_grid,n_grid));"
   ]
  },
  {
   "cell_type": "code",
   "execution_count": 7,
   "metadata": {},
   "outputs": [
    {
     "data": {
      "image/png": "[encoded data removed]",
      "text/plain": [
       "<Figure size 432x288 with 2 Axes>"
      ]
     },
     "metadata": {
      "needs_background": "light"
     },
     "output_type": "display_data"
    }
   ],
   "source": [
    "#display the true coordinates and observed data\n",
    "fig, ax = plt.subplots(1,2)\n",
    "ax[0].imshow(w_true_grid)\n",
    "ax[0].set_title('True Positions')\n",
    "ax[1].imshow(data)\n",
    "ax[1].set_title('Observed Data')\n",
    "plt.show()"
   ]
  },
  {
   "cell_type": "code",
   "execution_count": 8,
   "metadata": {},
   "outputs": [],
   "source": [
    "#In order to minmize w.r.t. complex numbers we embed the complex nummbers into real space with twice the dimensions\n",
    "#e.g. C -> 2R\n",
    "#here are our helper functions for this\n",
    "def real_to_complex(z):      # real vector of length 2n -> complex of length n\n",
    "    return z[:len(z)//2] + 1j * z[len(z)//2:]\n",
    "\n",
    "def complex_to_real(z):      # complex vector of length n -> real of length 2n\n",
    "    return np.real(np.concatenate((np.real(z), np.imag(z))));"
   ]
  },
  {
   "cell_type": "code",
   "execution_count": 9,
   "metadata": {},
   "outputs": [],
   "source": [
    "#now we define our loss function (basically log likelihood) and its gradient and hessian\n",
    "#ws is the fourier coefficients embedded into the reals and flattened to a 1d array\n",
    "def fm(ws_k): \n",
    "    ws_k = real_to_complex(ws_k) #2*reals -> complex\n",
    "    ws_k = ws_k.reshape((n_grid,n_grid)) #reshape to 2d\n",
    "    return np.real(np.fft.ifft2(ws_k*psf_k)) #convolution of ws with psf\n",
    "\n",
    "def loss_fn(ws_k):\n",
    "    conv = fm(ws_k)\n",
    "    loss = 0.5 * np.sum((conv - data)**2) /sig_noise**2\n",
    "    return loss\n",
    "\n",
    "def grad_loss(ws_k):\n",
    "    ws_k = real_to_complex(ws_k); #2*reals -> complex\n",
    "    ws_k = ws_k.reshape((n_grid,n_grid)); #reshape to 2d\n",
    "    conv = np.real(np.fft.ifft2(ws_k*psf_k)); #convolution of ws with psf\n",
    "    grad = np.fft.ifft2(conv - data)*psf_k/sig_noise**2 #gradient\n",
    "    grad_real = complex_to_real(np.conj(grad)); #embed to 2R\n",
    "    return grad_real.flatten(); #return 1d array\n",
    "\n",
    "def hess_loss(ws_k):\n",
    "    ws_k = real_to_complex(ws_k) #2*reals -> complex\n",
    "    ws_k = ws_k.reshape((n_grid,n_grid)) #reshape to 2d\n",
    "    \n",
    "    diag = (psf_k/n_grid/sig_noise)**2\n",
    "    diag_real = complex_to_real(np.conj(diag.flatten()))\n",
    "    #this needs to be returned as a 2d array\n",
    "    hess = np.zeros((2*n_grid**2,2*n_grid**2)) #factor of two because of embeding from C -> 2R\n",
    "    np.fill_diagonal(hess, diag_real)\n",
    "    return hess"
   ]
  },
  {
   "cell_type": "code",
   "execution_count": 10,
   "metadata": {},
   "outputs": [],
   "source": [
    "#now we optimize wrt ws_k, the fourier coefficients\n",
    "\n",
    "#create initial parameters\n",
    "tt0 = np.zeros((n_grid,n_grid)) + 3; #begin with high uniform mass in each pixel\n",
    "tt0_k = np.fft.fft2(tt0); #take fft\n",
    "t_ini = complex_to_real(tt0_k.flatten()) #flatten to 1d for scipy and embed in 2R"
   ]
  },
  {
   "cell_type": "code",
   "execution_count": 11,
   "metadata": {},
   "outputs": [],
   "source": [
    "from jax.experimental.optimizers import adagrad"
   ]
  },
  {
   "cell_type": "code",
   "execution_count": 12,
   "metadata": {},
   "outputs": [
    {
     "name": "stdout",
     "output_type": "stream",
     "text": [
      "inital loss: 1.51358e+07\n",
      "final loss: 7.85122e+06\n"
     ]
    }
   ],
   "source": [
    "print('inital loss: %.5e' % (loss_fn(t_ini)))\n",
    "init_fun, update_fun, get_params = adagrad(1)\n",
    "\n",
    "opt_state = init_fun(t_ini)\n",
    "for i in range(10000):\n",
    "    tt = get_params(opt_state)\n",
    "    g = grad(loss_fn)(tt)\n",
    "    opt_state = update_fun(i, g, opt_state)\n",
    "t_f = get_params(opt_state)\n",
    "\n",
    "print('final loss: %.5e' % (loss_fn(t_f)))"
   ]
  },
  {
   "cell_type": "code",
   "execution_count": 13,
   "metadata": {},
   "outputs": [
    {
     "data": {
      "image/png": "[encoded data removed]",
      "text/plain": [
       "<Figure size 720x1080 with 6 Axes>"
      ]
     },
     "metadata": {
      "needs_background": "light"
     },
     "output_type": "display_data"
    }
   ],
   "source": [
    "w_final_k = real_to_complex(t_f)\n",
    "w_final_k = w_final_k.reshape((n_grid,n_grid)) #reshape to 2d\n",
    "w_final = np.real(np.fft.ifft2(w_final_k))\n",
    "\n",
    "\n",
    "fig, ax = plt.subplots(3,2,figsize=(10,15))\n",
    "ax[0,0].imshow(w_true_grid)\n",
    "ax[0,0].set_title('Truth')\n",
    "ax[0,1].imshow(data)\n",
    "ax[0,1].set_title('Data')\n",
    "ax[1,0].imshow(tt0)\n",
    "ax[1,0].set_title('initial')\n",
    "ax[1,1].imshow(fm(t_ini))\n",
    "ax[2,0].imshow(w_final)\n",
    "ax[2,0].set_title('final')\n",
    "ax[2,1].imshow(fm(t_f))\n",
    "plt.show()"
   ]
  },
  {
   "cell_type": "code",
   "execution_count": 18,
   "metadata": {},
   "outputs": [
    {
     "name": "stdout",
     "output_type": "stream",
     "text": [
      "inital loss: 1.51358e+07\n",
      "[ 0.00000000e+00  4.01160301e-04  5.42944981e-05 -6.39652808e-06\n",
      " -2.07240591e-05 -2.61833816e-06 -1.77125112e-04 -3.38995451e-05\n",
      "  3.99873315e-05 -1.81666415e-04 -4.67217760e-05 -8.33626837e-06\n",
      " -2.21082265e-03 -6.43714302e-05 -2.30015121e-06  3.87217660e-05\n",
      "  7.43557684e-05 -1.48259947e-04  1.63346456e-04 -2.90246593e-04\n",
      " -2.90932458e-05 -6.29754709e-07  9.89740875e-06  9.31444520e-05\n",
      "  1.07659935e-06 -1.72486514e-04 -1.36472736e-04  7.86710461e-06\n",
      " -3.37423080e-05 -3.28366114e-05 -4.65197445e-05 -1.58982630e-06\n",
      "  9.32795956e-05  1.15710158e-04  7.64380914e-08 -6.78408833e-05\n",
      "  5.70295269e-05 -4.76839487e-04  2.50397334e-05  3.06630864e-05\n",
      "  1.63865188e-04  5.62929090e-05 -3.41559053e-06  1.07513486e-04\n",
      "  4.08082487e-05]\n",
      "[ 8.6496094e-08  1.3646943e-04  2.6931946e-06 -7.2818470e-06\n",
      " -6.6394778e-06 -1.7548601e-04 -3.9413481e-04 -8.2218241e-05\n",
      "  3.7689526e-06 -2.4399146e-06 -6.3302898e-05 -1.1002807e-04\n",
      " -1.9069200e-03 -1.1395840e-04 -2.6893944e-05  6.4720582e-05\n",
      "  3.8454205e-06 -1.3532773e-04 -2.7133729e-03 -9.1702757e-05\n",
      " -5.4100165e-05 -9.2573475e-07  1.3465269e-06  1.9252882e-06\n",
      "  7.1219079e-06 -5.3858984e-04 -3.1165648e-04  2.2813812e-07\n",
      " -2.2931647e-05 -1.2436603e-05 -1.6172792e-04 -1.5026081e-05\n",
      "  3.7038181e-04  1.4853725e-04  9.3484210e-05 -1.3921468e-04\n",
      "  1.4505621e-04 -5.6319808e-05  4.5873981e-05  2.8555110e-05\n",
      "  4.8921131e-05  4.5253208e-05 -9.3804838e-06  3.6794969e-04\n",
      "  1.5752844e-04]\n",
      "[ 0.0000000e+00  2.5247899e-04  1.1506444e-05 -3.9515708e-06\n",
      " -5.7307301e-05 -9.9319150e-05 -2.2534044e-03 -4.6974307e-04\n",
      "  2.1700944e-05 -1.3993522e-04 -1.2589723e-05 -8.2238759e-05\n",
      " -6.9574703e-04 -2.1706607e-04 -1.9906740e-05  3.9239359e-05\n",
      "  1.7081522e-05 -2.1908585e-04 -7.8093348e-05 -8.3916675e-05\n",
      " -6.9245740e-05 -2.9120437e-07  7.0861162e-05  2.1702275e-05\n",
      "  1.0707403e-05 -3.1688326e-04 -6.1002123e-04  7.7372124e-06\n",
      " -1.1781676e-05 -1.3752181e-04 -9.1186463e-05 -5.5665544e-07\n",
      "  7.2599715e-04  1.3564607e-04  8.1855884e-05 -6.3448395e-05\n",
      "  1.2986969e-04 -8.7169546e-04  3.1967531e-05  1.6713949e-04\n",
      "  6.7311601e-05  1.3375127e-04 -5.6159060e-06  9.9458957e-05\n",
      "  7.0904338e-05]\n",
      "[ 8.6542983e-08  9.3352247e-04  3.6810605e-05 -3.4735782e-05\n",
      " -1.7307655e-05 -2.4933301e-04  2.1677609e-03 -1.3309196e-04\n",
      "  3.2496140e-05 -2.7545022e-05 -8.7785747e-06 -1.4777295e-04\n",
      " -5.1960291e-04 -1.1748898e-05 -1.2918758e-05  2.9734110e-05\n",
      "  9.0074820e-05 -1.3743396e-04 -1.0279999e-04 -1.4921048e-04\n",
      " -3.4480097e-05 -8.2656658e-07  2.0216547e-05  6.2130566e-04\n",
      "  1.3247999e-05 -1.5594187e-04 -4.7026580e-04  9.0587328e-06\n",
      " -2.3213773e-04 -3.3971133e-05 -1.2105116e-04 -2.0603155e-05\n",
      "  2.4870696e-04  1.0371858e-04  8.2016079e-05 -7.3311552e-05\n",
      "  3.7166854e-05 -1.5947068e-04  4.7568214e-05  4.6278015e-05\n",
      "  1.1782714e-04  3.2622858e-05 -6.8058775e-06  2.2226248e-04\n",
      "  6.3646643e-04]\n",
      "[ 8.6572989e-08  1.0218729e-03  2.9015306e-05 -4.6596624e-06\n",
      " -2.6577161e-05 -2.9466233e-05  1.1071679e-03 -8.3575478e-06\n",
      "  3.2827906e-05 -1.2948265e-04 -1.6582155e-05 -1.4555348e-04\n",
      " -3.6015727e-03 -2.8483695e-04 -1.8671364e-05  8.8203051e-06\n",
      "  9.2769631e-05 -1.0897903e-04 -6.2175689e-04 -3.3471919e-05\n",
      " -2.2567285e-05 -2.6747132e-06  1.9579988e-05  2.9068787e-04\n",
      " -2.7793544e-04 -2.9674367e-04 -3.1824192e-04  1.5658827e-05\n",
      " -1.8722223e-05 -1.8821620e-05 -1.2393614e-04 -3.9309358e-05\n",
      "  5.0999050e-05  1.4141295e-04  3.2025589e-05 -8.7547109e-05\n",
      "  1.8616083e-04 -2.5300527e-04  6.0476582e-06  1.3914636e-04\n",
      "  4.1964886e-05  2.0832192e-04 -2.1550961e-05  1.9112744e-04\n",
      "  1.2990448e-05]\n",
      "[ 0.00000000e+00  5.67717594e-04  2.67889300e-05  2.46835669e-04\n",
      " -2.42787009e-05 -4.86978877e-07  4.91083367e-04 -5.98742161e-04\n",
      "  9.30890164e-05 -1.33357709e-04 -2.55393916e-05 -1.02150865e-04\n",
      " -1.55682047e-03 -2.26654403e-04 -4.32710949e-05  1.27530404e-06\n",
      "  8.33604063e-05 -2.29645491e-04  1.99612055e-04 -2.54458992e-05\n",
      " -1.98645339e-05 -0.00000000e+00  9.02659885e-05  3.24616034e-04\n",
      " -6.36719142e-06 -6.07207185e-04 -3.14311095e-04  4.71151634e-06\n",
      " -4.77272515e-05 -1.30598113e-04 -5.54190483e-05 -1.21004932e-05\n",
      "  1.74384491e-04  1.46906561e-04  7.46135920e-05 -7.70902043e-05\n",
      "  1.27990697e-05 -4.47137922e-04  6.67123459e-05  2.28206554e-05\n",
      "  1.38665375e-04  2.92952209e-05 -5.49513607e-05  3.43862688e-04\n",
      "  2.53328944e-05]\n",
      "[ 8.6640640e-08  7.6491525e-04  5.9908843e-06  7.2400384e-05\n",
      " -3.2926214e-06 -1.7291572e-04  1.9349497e-04 -2.6803825e-04\n",
      "  5.3254334e-06 -1.8254586e-04 -3.2457094e-05 -2.3787947e-04\n",
      " -7.6100891e-03 -2.2242239e-04 -2.4513851e-05  9.7103202e-06\n",
      "  1.0510419e-04 -1.0178477e-03  2.5346850e-05 -2.0912268e-04\n",
      " -2.6340138e-05 -1.6158974e-06  7.6754281e-05  3.8055590e-04\n",
      " -2.6722009e-05 -6.8359528e-05 -6.4593660e-05  6.7537599e-06\n",
      " -5.9742215e-05 -6.2971565e-05 -1.4197761e-04 -7.1676470e-07\n",
      "  5.1109795e-04  1.5331159e-04  2.3318247e-04 -6.1535844e-05\n",
      "  8.6002081e-05 -9.7457704e-04  1.5450227e-05  2.6574731e-04\n",
      "  2.5087111e-05  3.8810573e-05 -3.9978764e-05  3.8072592e-04\n",
      "  9.2749915e-06]\n",
      "[ 1.73353783e-07  2.38778279e-03  3.67434086e-06  1.99800870e-05\n",
      " -5.77532774e-05 -1.23681253e-04  2.80864682e-04 -2.85000657e-04\n",
      "  9.19237664e-06 -2.40169047e-05 -5.59626387e-05 -2.50544515e-04\n",
      " -7.20602367e-03 -1.90713487e-04 -7.78894973e-05  1.65023885e-05\n",
      "  6.72683746e-05 -7.60686671e-05  6.73472387e-05 -1.65870675e-04\n",
      " -1.33173489e-05 -1.43400166e-06  4.53804460e-05  6.29131333e-04\n",
      " -0.00000000e+00 -2.27801822e-04 -6.06064161e-04  2.53731327e-04\n",
      " -5.47444652e-05 -6.27353293e-05 -1.50570640e-05 -2.78051175e-05\n",
      "  4.42554592e-04  1.22919795e-04  1.23057616e-04 -4.97455367e-05\n",
      "  1.16586394e-04 -3.54608899e-04  1.46597476e-05  7.24717393e-04\n",
      "  1.06901090e-04  1.45803424e-05  5.83302972e-05  7.60040493e-05\n",
      "  5.28127566e-05]\n",
      "[ 8.6714145e-08  1.2741566e-03  1.0802698e-04  2.1725307e-05\n",
      " -1.6299193e-05 -6.7307170e-05  8.2910387e-04 -2.0511437e-04\n",
      "  9.6259246e-05 -2.4332931e-04 -6.7504894e-05 -1.7159947e-04\n",
      " -4.5476370e-03 -1.8040866e-04 -2.7176513e-05  2.3878189e-05\n",
      "  9.0830785e-05 -2.1833094e-04  4.4919050e-04 -1.6660274e-04\n",
      " -5.0420898e-05 -1.8027649e-06  4.2255626e-05  3.3710807e-04\n",
      " -1.3063714e-05 -9.6237175e-03 -1.8610305e-04 -2.3902085e-04\n",
      " -6.0326616e-05 -3.1686039e-05 -5.0109880e-05 -2.9491707e-06\n",
      "  3.5096136e-06  1.4406632e-04  4.0365827e-05 -7.8396464e-05\n",
      "  8.6804401e-05 -1.5749363e-03  4.2008724e-05 -8.4142150e-05\n",
      "  1.1264697e-04  2.4758468e-05  5.5254141e-06  1.9436497e-04\n",
      "  2.4601098e-02]\n",
      "[ 8.6752010e-08  2.6405051e-03  3.2060452e-05  8.8569877e-06\n",
      " -2.8973907e-05 -8.2086975e-05  1.0982073e-04 -9.4157158e-06\n",
      "  4.4574372e-05 -9.0158130e-05 -2.5551100e-05 -5.5912230e-04\n",
      " -1.2851412e-04 -2.0812691e-05 -2.8771779e-05  9.5261530e-06\n",
      "  7.9691172e-06 -3.1857580e-04 -2.2255608e-03 -8.8728324e-05\n",
      " -2.2043287e-05 -2.6807395e-06  8.1505219e-05  1.1973686e-04\n",
      " -1.8688079e-05  1.4013636e-04 -5.3728058e-06 -6.3260712e-05\n",
      " -7.3294592e-05 -1.4873342e-04 -9.7610297e-05 -2.7032935e-05\n",
      "  4.7532871e-04  1.3911200e-04  1.5085559e-04 -8.7730514e-05\n",
      "  5.1634532e-05 -1.8890951e-04  1.7144719e-05 -1.1640238e-04\n",
      "  1.3340201e-04  6.9695037e-05  1.6660588e-05  6.2058447e-04\n",
      " -7.2412088e-04]\n",
      "final loss: 1.50269e+07\n"
     ]
    }
   ],
   "source": [
    "print('inital loss: %.5e' % (loss_fn(t_ini)))\n",
    "init_fun, update_fun, get_params = adagrad(1)\n",
    "\n",
    "opt_state = init_fun(t_ini)\n",
    "for i in range(10):\n",
    "    tt = get_params(opt_state)\n",
    "    g = grad(loss_fn)(tt)\n",
    "    print((np.abs(g - grad_loss(tt))/g)[::10])\n",
    "    opt_state = update_fun(i, g, opt_state)\n",
    "t_f = get_params(opt_state)\n",
    "\n",
    "print('final loss: %.5e' % (loss_fn(t_f)))"
   ]
  },
  {
   "cell_type": "code",
   "execution_count": null,
   "metadata": {},
   "outputs": [],
   "source": []
  }
 ],
 "metadata": {
  "kernelspec": {
   "display_name": "Python 3",
   "language": "python",
   "name": "python3"
  },
  "language_info": {
   "codemirror_mode": {
    "name": "ipython",
    "version": 3
   },
   "file_extension": ".py",
   "mimetype": "text/x-python",
   "name": "python",
   "nbconvert_exporter": "python",
   "pygments_lexer": "ipython3",
   "version": "3.6.10"
  }
 },
 "nbformat": 4,
 "nbformat_minor": 4
}
