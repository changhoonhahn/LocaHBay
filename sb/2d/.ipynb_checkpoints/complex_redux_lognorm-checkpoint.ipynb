{
 "cells": [
  {
   "cell_type": "code",
   "execution_count": 61,
   "metadata": {},
   "outputs": [],
   "source": [
    "import math as math\n",
    "import autograd as Agrad\n",
    "#import autograd.numpy as np \n",
    "import numpy as np\n",
    "import numpy.fft as fft\n",
    "import scipy.optimize\n",
    "import scipy.stats as st\n",
    "from scipy.integrate import trapz\n",
    "from scipy.integrate import simps\n",
    "from photutils import find_peaks\n",
    "from photutils import detect_threshold\n",
    "# -- plotting --- \n",
    "import matplotlib as mpl \n",
    "import matplotlib.pyplot as plt\n",
    "mpl.rcParams['text.usetex'] = True\n",
    "mpl.rcParams['font.family'] = 'serif'\n",
    "mpl.rcParams['axes.linewidth'] = 1.5\n",
    "mpl.rcParams['axes.xmargin'] = 1\n",
    "mpl.rcParams['xtick.labelsize'] = 'x-large'\n",
    "mpl.rcParams['xtick.major.size'] = 5\n",
    "mpl.rcParams['xtick.major.width'] = 1.5\n",
    "mpl.rcParams['ytick.labelsize'] = 'x-large'\n",
    "mpl.rcParams['ytick.major.size'] = 5\n",
    "mpl.rcParams['ytick.major.width'] = 1.5\n",
    "mpl.rcParams['legend.frameon'] = False\n",
    "\n",
    "\n",
    "np.random.seed(42)"
   ]
  },
  {
   "cell_type": "code",
   "execution_count": 62,
   "metadata": {},
   "outputs": [
    {
     "data": {
      "image/png": "[encoded data removed]",
      "text/plain": [
       "<Figure size 432x288 with 1 Axes>"
      ]
     },
     "metadata": {
      "needs_background": "light"
     },
     "output_type": "display_data"
    }
   ],
   "source": [
    "#create global definitions for the data\n",
    "\n",
    "#create global definitions - this will become a main function later on\n",
    "np.random.seed(42)\n",
    "Ndata = 5;\n",
    "n_grid = 15;\n",
    "pix_1d = np.linspace(0., 1., n_grid) # pixel gridding\n",
    "fdensity_true = float(Ndata)/float(n_grid**2); #number density of obj in 1d\n",
    "\n",
    "#use very small psf and noise\n",
    "sig_psf = 0.1 # psf width\n",
    "sig_noise = 0.01 # noise level\n",
    "\n",
    "#create our psf\n",
    "mid = int(n_grid/2);\n",
    "x,y = np.meshgrid(pix_1d,pix_1d);\n",
    "psf = np.exp(-((y-pix_1d[mid])**2 + (x - pix_1d[mid])**2)/2/sig_psf**2); #keep in mind difference between x and y position and indices! Here, you are given indices, but meshgrid is in x-y coords\n",
    "#fourier transform of psf\n",
    "psf_k = fft.fft2(psf);\n",
    "#display psf\n",
    "plt.imshow(psf);"
   ]
  },
  {
   "cell_type": "code",
   "execution_count": 63,
   "metadata": {},
   "outputs": [],
   "source": [
    "#create the mock data we will work on\n",
    "#create coordinate grid\n",
    "theta_grid = np.linspace(0., 1., n_grid) # gridding of theta (same as pixels)\n",
    "\n",
    "#create true values - assign to grid\n",
    "x_true = np.abs(np.random.rand(Ndata)) # location of sources\n",
    "y_true = np.abs(np.random.rand(Ndata));\n",
    "w_true = np.abs(np.random.rand(Ndata))*2 # with intensity betwen 1-2\n",
    "\n",
    "#true grid needs to be set up with noise\n",
    "w_true_grid = np.zeros((n_grid,n_grid))\n",
    "for x,y, w in zip(x_true,y_true, w_true): \n",
    "    w_true_grid[np.argmin(np.abs(theta_grid - x)),np.argmin(np.abs(theta_grid - y))] = w\n",
    "#now create the 'data' by convolving with psf and adding random noise\n",
    "#by convolution thrm we conolve by inverse tranforming the multiplication of the fft of the data and fft of the psf\n",
    "\n",
    "data = np.real(fft.ifft2(fft.fft2(w_true_grid)*psf_k)) + np.absolute(sig_noise* np.random.randn(n_grid,n_grid));"
   ]
  },
  {
   "cell_type": "code",
   "execution_count": 64,
   "metadata": {},
   "outputs": [
    {
     "data": {
      "image/png": "[encoded data removed]",
      "text/plain": [
       "<Figure size 432x288 with 2 Axes>"
      ]
     },
     "metadata": {
      "needs_background": "light"
     },
     "output_type": "display_data"
    }
   ],
   "source": [
    "#display the true coordinates and observed data\n",
    "fig, ax = plt.subplots(1,2)\n",
    "ax[0].imshow(w_true_grid);\n",
    "ax[0].set_title('True Positions')\n",
    "ax[1].imshow(data);\n",
    "ax[1].set_title('Observed Data')\n",
    "plt.show();"
   ]
  },
  {
   "cell_type": "markdown",
   "metadata": {},
   "source": [
    "Notice that the positions of the observed data do not match the true positions. This is due to the periodic boundary conditions of doing convolution, as we do not use padding to adjust."
   ]
  },
  {
   "cell_type": "code",
   "execution_count": 65,
   "metadata": {},
   "outputs": [],
   "source": [
    "#In order to minmize w.r.t. complex numbers we embed the complex nummbers into real space with twice the dimensions\n",
    "#e.g. C -> 2R\n",
    "#here are our helper functions for this\n",
    "def real_to_complex(z):      # real vector of length 2n -> complex of length n\n",
    "    return z[:len(z)//2] + 1j * z[len(z)//2:]\n",
    "\n",
    "def complex_to_real(z):      # complex vector of length n -> real of length 2n\n",
    "    return np.real(np.concatenate((np.real(z), np.imag(z))));\n",
    "\n",
    "#our prior is a lognormal so we make helper functions\n",
    "norm_mean = -4.; #mean for lognormal\n",
    "norm_sig = 0.1;\n",
    "\n",
    "#expects ws, NOT the fourier coefficients ws_k\n",
    "def lognorm(ws):\n",
    "    norm_mean = -5.; #mean for lognormal\n",
    "    norm_sig = 0.75;\n",
    "    return np.exp(-0.5*(np.log(ws) - norm_mean)**2 /norm_sig**2)/np.sqrt(2*np.pi)/norm_sig/ws;\n",
    "\n",
    "#derivative of lognorm\n",
    "def diff_lognorm(ws):\n",
    "    #taken from: https://iopscience.iop.org/article/10.1088/1742-6596/1338/1/012036/pdf\n",
    "    df = -1*lognorm(ws)*(1/ws - (np.log(ws)-norm_mean)/ws/norm_sig**2);\n",
    "    \n",
    "    return df;\n",
    "    "
   ]
  },
  {
   "cell_type": "code",
   "execution_count": 66,
   "metadata": {},
   "outputs": [],
   "source": [
    "#now we define our loss function (basically log likelihood)\n",
    "#ws is the fourier coefficients embedded into the reals and flattened to a 1d array\n",
    "\n",
    "def loss_like(ws_k):\n",
    "    #gaussian likelihood, assumes ws_k is in complex form and 2d\n",
    "    conv = np.real(fft.ifft2(ws_k*psf_k)); #convolution of ws with psf\n",
    "    like_loss = 0.5 * np.sum((conv - data)**2) /sig_noise**2 #gaussian likelihood loss\n",
    "    \n",
    "    return like_loss;\n",
    "def loss_prior(ws_k):\n",
    "    #prior, assumes ws_k is in complex form and 2d\n",
    "    ws = np.real(fft.ifft2(ws_k)); #need ws to calc prior (maybe I'll figure out a way to only use ws_k later)\n",
    "    p1 = 0;\n",
    "    p2 = 0;\n",
    "    prior = lognorm(ws)*(1-fdensity_true-fdensity_true**2) + p1*fdensity_true + p2*fdensity_true**2; #full prior\n",
    "    lnprior = np.log(prior); #remember we work in logspace for this\n",
    "    prior_loss = np.sum(lnprior);\n",
    "    \n",
    "    return prior_loss;\n",
    "\n",
    "def loss_fn(ws_k):\n",
    "    ws_k = real_to_complex(ws_k); #2*reals -> complex\n",
    "    ws_k = ws_k.reshape((n_grid,n_grid)); #reshape to 2d\n",
    "    ws = np.absolute(fft.ifft2(ws_k));\n",
    "    ws_k = fft.fft2(ws);\n",
    "    return loss_like(ws_k) - loss_prior(ws_k);"
   ]
  },
  {
   "cell_type": "code",
   "execution_count": 67,
   "metadata": {},
   "outputs": [],
   "source": [
    "#now define gradients\n",
    "\n",
    "def grad_like(ws_k):\n",
    "    #gradient of likelihood portion of loss\n",
    "    #assumes ws_k is in complex form and 2d\n",
    "    conv = np.real(fft.ifft2(ws_k*psf_k)); #convolution of ws with psf\n",
    "    grad = fft.ifft2(conv - data)*psf_k/sig_noise**2 #gradient\n",
    "    grad_real = complex_to_real(np.conj(grad.flatten())); #embed to 2R, don't forget complex conjugate!\n",
    "    \n",
    "    return grad_real; #return 1d array\n",
    "\n",
    "def grad_prior(ws_k):\n",
    "    #gradient of prior portion of loss\n",
    "    #assumes ws_k is in complex form and 2d\n",
    "    ws = np.real(fft.ifft2(ws_k));\n",
    "    #prior takes the form sum ln(p(x))\n",
    "    #to differentiate, we get p'(x)/|p(x)|\n",
    "    #if p(x) is just a constant*lognorm, p'(x) is simply p(x)*(-1/x - (lnx - mean)/x/sig^2)\n",
    "    #and p(x) cancels, leaving only the second term\n",
    "    #for derivation: https://iopscience.iop.org/article/10.1088/1742-6596/1338/1/012036/pdf\n",
    "    #might lose a negative here due to abs value, but it shouldn't be negative anyway\n",
    "    \n",
    "    #keep in mind we take the invfft of p'(x)/|p(x)|\n",
    "    grad = fft.ifft2(-1/ws - (np.log(ws)-norm_mean)/ws/norm_sig**2);\n",
    "    \n",
    "    '''\n",
    "    if p1 and p2 aren't zero, account for that here\n",
    "    1) we pick up gradients from them so p'(x) changes\n",
    "    2) they remain in p(x) so we don't get to cancel our lognormal nicely (even if they are constants)\n",
    "    '''\n",
    "    \n",
    "    grad_real = complex_to_real(np.conj(grad.flatten())); #embed to 2R, don't forget complex conjugate!\n",
    "    return grad_real;\n",
    "\n",
    "#total grad_loss, assumes input is fourier coeffs embed in reals and 1d array\n",
    "def grad_loss(ws_k):\n",
    "    ws_k = real_to_complex(ws_k); #2*reals -> complex\n",
    "    ws_k = ws_k.reshape((n_grid,n_grid)); #reshape to 2d\n",
    "    ws = np.absolute(fft.ifft2(ws_k));\n",
    "    ws_k = fft.fft2(ws);\n",
    "    return grad_like(ws_k) - grad_prior(ws_k);\n",
    "    "
   ]
  },
  {
   "cell_type": "code",
   "execution_count": 68,
   "metadata": {},
   "outputs": [],
   "source": [
    "#now define hessian\n",
    "\n",
    "def hess_like(ws_k):\n",
    "    #assumes ws_k is in complex form and 2d\n",
    "    diag = (psf_k/n_grid/sig_noise)**2;\n",
    "    diag_real = complex_to_real(np.conj(diag.flatten()));\n",
    "    #this needs to be returned as a 2d array;\n",
    "    hess = np.zeros((2*n_grid**2,2*n_grid**2)); #factor of two because of embeding from C -> 2R\n",
    "    np.fill_diagonal(hess,diag_real);\n",
    "    \n",
    "    return hess;\n",
    "\n",
    "def hess_prior(ws_k):\n",
    "    #assumes ws_k is in complex form and 2d\n",
    "    ws = np.real(fft.ifft2(ws_k))\n",
    "    #we drop non-diagonal terms, only keep second derivatives\n",
    "    #link in the grad_prior function has this but with a negative\n",
    "    dd = np.sum((norm_sig**2 - 1 + np.log(ws) - norm_mean)/norm_sig**2/ws**2)/n_grid**2;\n",
    "    #turn this into a 1d array to fill diagonal\n",
    "    diag_real = np.zeros(2*n_grid**2);\n",
    "    #purely real, so only fill first half of diagnol\n",
    "    diag_real[0:n_grid**2] = dd;\n",
    "    #this needs to be returned as a 2d array;\n",
    "    hess = np.zeros((2*n_grid**2,2*n_grid**2)); #factor of two because of embeding from C -> 2R\n",
    "    np.fill_diagonal(hess,diag_real);\n",
    "    \n",
    "    return hess;\n",
    "\n",
    "#total hessian loss, assumes input is fourier coeffs embed in reals and 1d array\n",
    "def hess_loss(ws_k):\n",
    "    ws_k = real_to_complex(ws_k); #2*reals -> complex\n",
    "    ws_k = ws_k.reshape((n_grid,n_grid)); #reshape to 2d\n",
    "    ws = np.absolute(fft.ifft2(ws_k));\n",
    "    ws_k = fft.fft2(ws);\n",
    "    return -1*hess_prior(ws_k);"
   ]
  },
  {
   "cell_type": "code",
   "execution_count": 69,
   "metadata": {},
   "outputs": [],
   "source": [
    "#now we optimize wrt ws_k, the fourier coefficients\n",
    "\n",
    "#create initial parameters\n",
    "tt0 = np.zeros((n_grid,n_grid)) + 3; #begin with high uniform mass in each pixel\n",
    "tt0_k = fft.fft2(tt0); #take fft\n",
    "t_ini = complex_to_real(tt0_k.flatten()) #flatten to 1d for scipy and embed in 2R"
   ]
  },
  {
   "cell_type": "code",
   "execution_count": 70,
   "metadata": {},
   "outputs": [
    {
     "name": "stdout",
     "output_type": "stream",
     "text": [
      "Number of Iterations\n",
      "38\n",
      "Final Loss\n",
      "4264166166.2815623\n"
     ]
    },
    {
     "data": {
      "image/png": "[encoded data removed]",
      "text/plain": [
       "<Figure size 1080x1080 with 3 Axes>"
      ]
     },
     "metadata": {
      "needs_background": "light"
     },
     "output_type": "display_data"
    }
   ],
   "source": [
    "#optimize using scipy and our analytic gradients/hessians\n",
    "\n",
    "#contraint function\n",
    "\n",
    "def confun(ws_k):\n",
    "    ws_k = real_to_complex(ws_k); #2*reals -> complex\n",
    "    ws_k = ws_k.reshape((n_grid,n_grid)); #reshape to 2d\n",
    "    return np.real(fft.ifft2(ws_k)).flatten();\n",
    "\n",
    "con1 = {'type': 'ineq', 'fun': confun}\n",
    "\n",
    "con2 = scipy.optimize.NonlinearConstraint(confun,0,4);\n",
    "\n",
    "res = scipy.optimize.minimize(lambda tt: loss_fn(tt),\n",
    "    t_ini, # theta initial\n",
    "    jac=grad_loss,\n",
    "    hess = hess_loss,                        \n",
    "    method='trust-exact');\n",
    "print('Number of Iterations');\n",
    "print(res['nit']);\n",
    "print('Final Loss');\n",
    "print(loss_fn(res['x']));\n",
    "#remember this returns the fourier coefficients embeded in the reals\n",
    "w_final_k = real_to_complex(res['x']);\n",
    "w_final_k = w_final_k.reshape((n_grid,n_grid)); #reshape to 2d\n",
    "w_final = np.real(fft.ifft2(w_final_k));\n",
    "fig, ax = plt.subplots(1,3,figsize=(15,15))\n",
    "ax[0].imshow(w_true_grid);\n",
    "ax[0].set_title('Truth')\n",
    "ax[1].imshow(data);\n",
    "ax[1].set_title('Data')\n",
    "ax[2].imshow(w_final);\n",
    "ax[2].set_title('trust-ncg')\n",
    "plt.show();"
   ]
  },
  {
   "cell_type": "code",
   "execution_count": null,
   "metadata": {},
   "outputs": [],
   "source": []
  }
 ],
 "metadata": {
  "kernelspec": {
   "display_name": "Python 3",
   "language": "python",
   "name": "python3"
  },
  "language_info": {
   "codemirror_mode": {
    "name": "ipython",
    "version": 3
   },
   "file_extension": ".py",
   "mimetype": "text/x-python",
   "name": "python",
   "nbconvert_exporter": "python",
   "pygments_lexer": "ipython3",
   "version": "3.6.10"
  }
 },
 "nbformat": 4,
 "nbformat_minor": 4
}
